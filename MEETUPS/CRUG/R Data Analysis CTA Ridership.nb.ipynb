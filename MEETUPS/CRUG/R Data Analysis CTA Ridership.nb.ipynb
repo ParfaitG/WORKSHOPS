{
 "cells": [
  {
   "cell_type": "markdown",
   "metadata": {},
   "source": [
    "## R Data Structures\n",
    "\n",
    "<img src=\"IMAGES/R_Logo.png\" style=\"height:50px;float:right;\">\n",
    "- **[Data Structures](http://adv-r.had.co.nz/Data-structures.html)**\n",
    "\n",
    "<table style=\"float:left;\">\n",
    "<thead>\n",
    "<tr class=\"header\">\n",
    "<th align=\"left\"></th>\n",
    "<th align=\"left\">Homogeneous</th>\n",
    "<th align=\"left\">Heterogeneous</th>\n",
    "</tr>\n",
    "</thead>\n",
    "<tbody>\n",
    "<tr class=\"odd\">\n",
    "<td align=\"left\">1d</td>\n",
    "<td align=\"left\">Atomic vector</td>\n",
    "<td align=\"left\">List</td>\n",
    "</tr>\n",
    "<tr class=\"even\">\n",
    "<td align=\"left\">2d</td>\n",
    "<td align=\"left\">Matrix</td>\n",
    "<td align=\"left\">Data frame</td>\n",
    "</tr>\n",
    "<tr class=\"odd\">\n",
    "<td align=\"left\">nd</td>\n",
    "<td align=\"left\">Array</td>\n",
    "<td align=\"left\"></td>\n",
    "</tr>\n",
    "</tbody>\n",
    "</table>"
   ]
  },
  {
   "cell_type": "code",
   "execution_count": 1,
   "metadata": {},
   "outputs": [],
   "source": [
    "?vector             # COLLECTION OF PRIMIIVE, EQUAL TYPE VALUES\n",
    "?matrix             # VECTOR WITH dim()\n",
    "?list               # COLLECTION OF DIFFERENT OBJECTS\n",
    "?data.frame         # LIST OF EQUAL-LENGTH VECTORS"
   ]
  },
  {
   "cell_type": "markdown",
   "metadata": {},
   "source": [
    "## Defining Modules"
   ]
  },
  {
   "cell_type": "code",
   "execution_count": 2,
   "metadata": {},
   "outputs": [],
   "source": [
    "library(base)       # REDUNDANT\n",
    "library(stats)      # REDUNDANT\n",
    "library(utils)      # REDUNDANT"
   ]
  },
  {
   "cell_type": "markdown",
   "metadata": {},
   "source": [
    "## Import Data\n",
    "\n",
    "### Source: [CTA Ridership 'L' Stations](https://data.cityofchicago.org/Transportation/CTA-Ridership-L-Station-Entries-Daily-Totals/5neh-572f)"
   ]
  },
  {
   "cell_type": "code",
   "execution_count": 3,
   "metadata": {},
   "outputs": [],
   "source": [
    "?utils::read.table"
   ]
  },
  {
   "cell_type": "markdown",
   "metadata": {},
   "source": [
    "### Other I/O Tools:\n",
    "\n",
    "- **[data.table::fread](https://www.rdocumentation.org/packages/data.table/versions/1.11.4/topics/fread)**\n",
    "- **[reader::read_table](https://www.rdocumentation.org/packages/readr/versions/0.1.1/topics/read_table)**"
   ]
  },
  {
   "cell_type": "code",
   "execution_count": 1,
   "metadata": {},
   "outputs": [
    {
     "data": {
      "text/html": [
       "<table>\n",
       "<thead><tr><th scope=col>station_id</th><th scope=col>stationname</th><th scope=col>date</th><th scope=col>daytype</th><th scope=col>rides</th></tr></thead>\n",
       "<tbody>\n",
       "\t<tr><td>40010             </td><td>Austin-Forest Park</td><td>01/01/2001        </td><td>U                 </td><td> 290              </td></tr>\n",
       "\t<tr><td>40020             </td><td>Harlem-Lake       </td><td>01/01/2001        </td><td>U                 </td><td> 633              </td></tr>\n",
       "\t<tr><td>40030             </td><td>Pulaski-Lake      </td><td>01/01/2001        </td><td>U                 </td><td> 483              </td></tr>\n",
       "\t<tr><td>40040             </td><td>Quincy/Wells      </td><td>01/01/2001        </td><td>U                 </td><td> 374              </td></tr>\n",
       "\t<tr><td>40050             </td><td>Davis             </td><td>01/01/2001        </td><td>U                 </td><td> 804              </td></tr>\n",
       "\t<tr><td>40060             </td><td>Belmont-O'Hare    </td><td>01/01/2001        </td><td>U                 </td><td>1165              </td></tr>\n",
       "</tbody>\n",
       "</table>\n"
      ],
      "text/latex": [
       "\\begin{tabular}{r|lllll}\n",
       " station\\_id & stationname & date & daytype & rides\\\\\n",
       "\\hline\n",
       "\t 40010              & Austin-Forest Park & 01/01/2001         & U                  &  290              \\\\\n",
       "\t 40020              & Harlem-Lake        & 01/01/2001         & U                  &  633              \\\\\n",
       "\t 40030              & Pulaski-Lake       & 01/01/2001         & U                  &  483              \\\\\n",
       "\t 40040              & Quincy/Wells       & 01/01/2001         & U                  &  374              \\\\\n",
       "\t 40050              & Davis              & 01/01/2001         & U                  &  804              \\\\\n",
       "\t 40060              & Belmont-O'Hare     & 01/01/2001         & U                  & 1165              \\\\\n",
       "\\end{tabular}\n"
      ],
      "text/markdown": [
       "\n",
       "station_id | stationname | date | daytype | rides | \n",
       "|---|---|---|---|---|---|\n",
       "| 40010              | Austin-Forest Park | 01/01/2001         | U                  |  290               | \n",
       "| 40020              | Harlem-Lake        | 01/01/2001         | U                  |  633               | \n",
       "| 40030              | Pulaski-Lake       | 01/01/2001         | U                  |  483               | \n",
       "| 40040              | Quincy/Wells       | 01/01/2001         | U                  |  374               | \n",
       "| 40050              | Davis              | 01/01/2001         | U                  |  804               | \n",
       "| 40060              | Belmont-O'Hare     | 01/01/2001         | U                  | 1165               | \n",
       "\n",
       "\n"
      ],
      "text/plain": [
       "  station_id stationname        date       daytype rides\n",
       "1 40010      Austin-Forest Park 01/01/2001 U        290 \n",
       "2 40020      Harlem-Lake        01/01/2001 U        633 \n",
       "3 40030      Pulaski-Lake       01/01/2001 U        483 \n",
       "4 40040      Quincy/Wells       01/01/2001 U        374 \n",
       "5 40050      Davis              01/01/2001 U        804 \n",
       "6 40060      Belmont-O'Hare     01/01/2001 U       1165 "
      ]
     },
     "metadata": {},
     "output_type": "display_data"
    }
   ],
   "source": [
    "setwd('/path/to/working/directory')\n",
    "\n",
    "rides_df <- read.table('DATA/CTA_Ridership_L_Station_Entries_DailyTotals.csv', header=TRUE, quote = \"\\\"\", sep=\",\")\n",
    "\n",
    "head(rides_df)"
   ]
  },
  {
   "cell_type": "code",
   "execution_count": 5,
   "metadata": {},
   "outputs": [
    {
     "data": {
      "text/html": [
       "<table>\n",
       "<thead><tr><th></th><th scope=col>station_id</th><th scope=col>stationname</th><th scope=col>date</th><th scope=col>daytype</th><th scope=col>rides</th></tr></thead>\n",
       "<tbody>\n",
       "\t<tr><th scope=row>897023</th><td>41700            </td><td>Washington/Wabash</td><td>03/22/2018       </td><td>W                </td><td>10101            </td></tr>\n",
       "\t<tr><th scope=row>897024</th><td>41700            </td><td>Washington/Wabash</td><td>03/23/2018       </td><td>W                </td><td> 9466            </td></tr>\n",
       "\t<tr><th scope=row>897025</th><td>41700            </td><td>Washington/Wabash</td><td>03/24/2018       </td><td>A                </td><td> 4729            </td></tr>\n",
       "\t<tr><th scope=row>897026</th><td>41700            </td><td>Washington/Wabash</td><td>03/25/2018       </td><td>U                </td><td> 3507            </td></tr>\n",
       "\t<tr><th scope=row>897027</th><td>41700            </td><td>Washington/Wabash</td><td>03/26/2018       </td><td>W                </td><td> 9143            </td></tr>\n",
       "\t<tr><th scope=row>897028</th><td>41700            </td><td>Washington/Wabash</td><td>03/27/2018       </td><td>W                </td><td> 9457            </td></tr>\n",
       "\t<tr><th scope=row>897029</th><td>41700            </td><td>Washington/Wabash</td><td>03/28/2018       </td><td>W                </td><td>10091            </td></tr>\n",
       "\t<tr><th scope=row>897030</th><td>41700            </td><td>Washington/Wabash</td><td>03/29/2018       </td><td>W                </td><td> 9427            </td></tr>\n",
       "\t<tr><th scope=row>897031</th><td>41700            </td><td>Washington/Wabash</td><td>03/30/2018       </td><td>W                </td><td> 9305            </td></tr>\n",
       "\t<tr><th scope=row>897032</th><td>41700            </td><td>Washington/Wabash</td><td>03/31/2018       </td><td>A                </td><td> 4319            </td></tr>\n",
       "</tbody>\n",
       "</table>\n"
      ],
      "text/latex": [
       "\\begin{tabular}{r|lllll}\n",
       "  & station\\_id & stationname & date & daytype & rides\\\\\n",
       "\\hline\n",
       "\t897023 & 41700             & Washington/Wabash & 03/22/2018        & W                 & 10101            \\\\\n",
       "\t897024 & 41700             & Washington/Wabash & 03/23/2018        & W                 &  9466            \\\\\n",
       "\t897025 & 41700             & Washington/Wabash & 03/24/2018        & A                 &  4729            \\\\\n",
       "\t897026 & 41700             & Washington/Wabash & 03/25/2018        & U                 &  3507            \\\\\n",
       "\t897027 & 41700             & Washington/Wabash & 03/26/2018        & W                 &  9143            \\\\\n",
       "\t897028 & 41700             & Washington/Wabash & 03/27/2018        & W                 &  9457            \\\\\n",
       "\t897029 & 41700             & Washington/Wabash & 03/28/2018        & W                 & 10091            \\\\\n",
       "\t897030 & 41700             & Washington/Wabash & 03/29/2018        & W                 &  9427            \\\\\n",
       "\t897031 & 41700             & Washington/Wabash & 03/30/2018        & W                 &  9305            \\\\\n",
       "\t897032 & 41700             & Washington/Wabash & 03/31/2018        & A                 &  4319            \\\\\n",
       "\\end{tabular}\n"
      ],
      "text/markdown": [
       "\n",
       "| <!--/--> | station_id | stationname | date | daytype | rides | \n",
       "|---|---|---|---|---|---|---|---|---|---|\n",
       "| 897023 | 41700             | Washington/Wabash | 03/22/2018        | W                 | 10101             | \n",
       "| 897024 | 41700             | Washington/Wabash | 03/23/2018        | W                 |  9466             | \n",
       "| 897025 | 41700             | Washington/Wabash | 03/24/2018        | A                 |  4729             | \n",
       "| 897026 | 41700             | Washington/Wabash | 03/25/2018        | U                 |  3507             | \n",
       "| 897027 | 41700             | Washington/Wabash | 03/26/2018        | W                 |  9143             | \n",
       "| 897028 | 41700             | Washington/Wabash | 03/27/2018        | W                 |  9457             | \n",
       "| 897029 | 41700             | Washington/Wabash | 03/28/2018        | W                 | 10091             | \n",
       "| 897030 | 41700             | Washington/Wabash | 03/29/2018        | W                 |  9427             | \n",
       "| 897031 | 41700             | Washington/Wabash | 03/30/2018        | W                 |  9305             | \n",
       "| 897032 | 41700             | Washington/Wabash | 03/31/2018        | A                 |  4319             | \n",
       "\n",
       "\n"
      ],
      "text/plain": [
       "       station_id stationname       date       daytype rides\n",
       "897023 41700      Washington/Wabash 03/22/2018 W       10101\n",
       "897024 41700      Washington/Wabash 03/23/2018 W        9466\n",
       "897025 41700      Washington/Wabash 03/24/2018 A        4729\n",
       "897026 41700      Washington/Wabash 03/25/2018 U        3507\n",
       "897027 41700      Washington/Wabash 03/26/2018 W        9143\n",
       "897028 41700      Washington/Wabash 03/27/2018 W        9457\n",
       "897029 41700      Washington/Wabash 03/28/2018 W       10091\n",
       "897030 41700      Washington/Wabash 03/29/2018 W        9427\n",
       "897031 41700      Washington/Wabash 03/30/2018 W        9305\n",
       "897032 41700      Washington/Wabash 03/31/2018 A        4319"
      ]
     },
     "metadata": {},
     "output_type": "display_data"
    }
   ],
   "source": [
    "rides_df <- read.csv('DATA/CTA_Ridership_L_Station_Entries_DailyTotals.csv')\n",
    "\n",
    "tail(rides_df, 10)"
   ]
  },
  {
   "cell_type": "code",
   "execution_count": 6,
   "metadata": {},
   "outputs": [
    {
     "name": "stdout",
     "output_type": "stream",
     "text": [
      "'data.frame':\t897032 obs. of  5 variables:\n",
      " $ station_id : int  40010 40020 40030 40040 40050 40060 40070 40080 40090 40100 ...\n",
      " $ stationname: Factor w/ 148 levels \"18th\",\"35-Bronzeville-IIT\",..: 23 70 120 122 52 26 78 130 49 109 ...\n",
      " $ date       : Factor w/ 6299 levels \"01/01/2001\",\"01/01/2002\",..: 1 1 1 1 1 1 1 1 1 1 ...\n",
      " $ daytype    : Factor w/ 3 levels \"A\",\"U\",\"W\": 2 2 2 2 2 2 2 2 2 2 ...\n",
      " $ rides      : int  290 633 483 374 804 1165 649 1116 411 1698 ...\n"
     ]
    }
   ],
   "source": [
    "str(rides_df)"
   ]
  },
  {
   "cell_type": "code",
   "execution_count": 7,
   "metadata": {},
   "outputs": [
    {
     "data": {
      "text/plain": [
       "   station_id                 stationname             date        daytype   \n",
       " Min.   :40010   Racine             :  6319   08/01/2011:   168   A:127609  \n",
       " 1st Qu.:40370   Montrose-Brown     :  6317   07/21/2011:   167   U:142698  \n",
       " Median :40750   Monroe/Dearborn    :  6316   08/06/2011:   164   W:626725  \n",
       " Mean   :40761   Western-Forest Park:  6316   07/23/2011:   163             \n",
       " 3rd Qu.:41150   Montrose-O'Hare    :  6315   07/03/2011:   162             \n",
       " Max.   :41700   Indiana            :  6314   07/18/2011:   161             \n",
       "                 (Other)            :859135   (Other)   :896047             \n",
       "     rides      \n",
       " Min.   :    0  \n",
       " 1st Qu.: 1121  \n",
       " Median : 2316  \n",
       " Mean   : 3305  \n",
       " 3rd Qu.: 4348  \n",
       " Max.   :36323  \n",
       "                "
      ]
     },
     "metadata": {},
     "output_type": "display_data"
    }
   ],
   "source": [
    "summary(rides_df)"
   ]
  },
  {
   "cell_type": "markdown",
   "metadata": {},
   "source": [
    "## XML Data\n",
    "\n",
    "### Source: [CTA 'L' Stops System Information](https://data.cityofchicago.org/Transportation/CTA-System-Information-List-of-L-Stops/8pix-ypme)"
   ]
  },
  {
   "cell_type": "code",
   "execution_count": 2,
   "metadata": {},
   "outputs": [
    {
     "data": {
      "text/html": [
       "<table>\n",
       "<thead><tr><th scope=col>stop_id</th><th scope=col>direction_id</th><th scope=col>stop_name</th><th scope=col>station_name</th><th scope=col>station_descriptive_name</th><th scope=col>map_id</th><th scope=col>ada</th><th scope=col>red</th><th scope=col>blue</th><th scope=col>green</th><th scope=col>brown</th><th scope=col>purple</th><th scope=col>purple_exp</th><th scope=col>yellow</th><th scope=col>pink</th><th scope=col>orange</th><th scope=col>location</th></tr></thead>\n",
       "<tbody>\n",
       "\t<tr><td>30161                            </td><td>E                                </td><td>18th (Loop-bound)                </td><td>18th                             </td><td>18th (Pink Line)                 </td><td>40830                            </td><td>TRUE                             </td><td>FALSE                            </td><td>FALSE                            </td><td>FALSE                            </td><td>FALSE                            </td><td>FALSE                            </td><td>FALSE                            </td><td>FALSE                            </td><td> TRUE                            </td><td>FALSE                            </td><td>                                 </td></tr>\n",
       "\t<tr><td>30162                            </td><td>W                                </td><td>18th (54th/Cermak-bound)         </td><td>18th                             </td><td>18th (Pink Line)                 </td><td>40830                            </td><td>TRUE                             </td><td>FALSE                            </td><td>FALSE                            </td><td>FALSE                            </td><td>FALSE                            </td><td>FALSE                            </td><td>FALSE                            </td><td>FALSE                            </td><td> TRUE                            </td><td>FALSE                            </td><td>                                 </td></tr>\n",
       "\t<tr><td>30022                            </td><td>N                                </td><td>35th/Archer (Loop-bound)         </td><td>35th/Archer                      </td><td>35th/Archer (Orange Line)        </td><td>40120                            </td><td>TRUE                             </td><td>FALSE                            </td><td>FALSE                            </td><td>FALSE                            </td><td>FALSE                            </td><td>FALSE                            </td><td>FALSE                            </td><td>FALSE                            </td><td>FALSE                            </td><td> TRUE                            </td><td>                                 </td></tr>\n",
       "\t<tr><td>30023                            </td><td>S                                </td><td>35th/Archer (Midway-bound)       </td><td>35th/Archer                      </td><td>35th/Archer (Orange Line)        </td><td>40120                            </td><td>TRUE                             </td><td>FALSE                            </td><td>FALSE                            </td><td>FALSE                            </td><td>FALSE                            </td><td>FALSE                            </td><td>FALSE                            </td><td>FALSE                            </td><td>FALSE                            </td><td> TRUE                            </td><td>                                 </td></tr>\n",
       "\t<tr><td>30213                            </td><td>N                                </td><td>35-Bronzeville-IIT (Harlem-bound)</td><td>35th-Bronzeville-IIT             </td><td>35th-Bronzeville-IIT (Green Line)</td><td>41120                            </td><td>TRUE                             </td><td>FALSE                            </td><td>FALSE                            </td><td> TRUE                            </td><td>FALSE                            </td><td>FALSE                            </td><td>FALSE                            </td><td>FALSE                            </td><td>FALSE                            </td><td>FALSE                            </td><td>                                 </td></tr>\n",
       "\t<tr><td>30214                            </td><td>S                                </td><td>35-Bronzeville-IIT (63rd-bound)  </td><td>35th-Bronzeville-IIT             </td><td>35th-Bronzeville-IIT (Green Line)</td><td>41120                            </td><td>TRUE                             </td><td>FALSE                            </td><td>FALSE                            </td><td> TRUE                            </td><td>FALSE                            </td><td>FALSE                            </td><td>FALSE                            </td><td>FALSE                            </td><td>FALSE                            </td><td>FALSE                            </td><td>                                 </td></tr>\n",
       "</tbody>\n",
       "</table>\n"
      ],
      "text/latex": [
       "\\begin{tabular}{r|lllllllllllllllll}\n",
       " stop\\_id & direction\\_id & stop\\_name & station\\_name & station\\_descriptive\\_name & map\\_id & ada & red & blue & green & brown & purple & purple\\_exp & yellow & pink & orange & location\\\\\n",
       "\\hline\n",
       "\t 30161                             & E                                 & 18th (Loop-bound)                 & 18th                              & 18th (Pink Line)                  & 40830                             & TRUE                              & FALSE                             & FALSE                             & FALSE                             & FALSE                             & FALSE                             & FALSE                             & FALSE                             &  TRUE                             & FALSE                             &                                  \\\\\n",
       "\t 30162                             & W                                 & 18th (54th/Cermak-bound)          & 18th                              & 18th (Pink Line)                  & 40830                             & TRUE                              & FALSE                             & FALSE                             & FALSE                             & FALSE                             & FALSE                             & FALSE                             & FALSE                             &  TRUE                             & FALSE                             &                                  \\\\\n",
       "\t 30022                             & N                                 & 35th/Archer (Loop-bound)          & 35th/Archer                       & 35th/Archer (Orange Line)         & 40120                             & TRUE                              & FALSE                             & FALSE                             & FALSE                             & FALSE                             & FALSE                             & FALSE                             & FALSE                             & FALSE                             &  TRUE                             &                                  \\\\\n",
       "\t 30023                             & S                                 & 35th/Archer (Midway-bound)        & 35th/Archer                       & 35th/Archer (Orange Line)         & 40120                             & TRUE                              & FALSE                             & FALSE                             & FALSE                             & FALSE                             & FALSE                             & FALSE                             & FALSE                             & FALSE                             &  TRUE                             &                                  \\\\\n",
       "\t 30213                             & N                                 & 35-Bronzeville-IIT (Harlem-bound) & 35th-Bronzeville-IIT              & 35th-Bronzeville-IIT (Green Line) & 41120                             & TRUE                              & FALSE                             & FALSE                             &  TRUE                             & FALSE                             & FALSE                             & FALSE                             & FALSE                             & FALSE                             & FALSE                             &                                  \\\\\n",
       "\t 30214                             & S                                 & 35-Bronzeville-IIT (63rd-bound)   & 35th-Bronzeville-IIT              & 35th-Bronzeville-IIT (Green Line) & 41120                             & TRUE                              & FALSE                             & FALSE                             &  TRUE                             & FALSE                             & FALSE                             & FALSE                             & FALSE                             & FALSE                             & FALSE                             &                                  \\\\\n",
       "\\end{tabular}\n"
      ],
      "text/markdown": [
       "\n",
       "stop_id | direction_id | stop_name | station_name | station_descriptive_name | map_id | ada | red | blue | green | brown | purple | purple_exp | yellow | pink | orange | location | \n",
       "|---|---|---|---|---|---|\n",
       "| 30161                             | E                                 | 18th (Loop-bound)                 | 18th                              | 18th (Pink Line)                  | 40830                             | TRUE                              | FALSE                             | FALSE                             | FALSE                             | FALSE                             | FALSE                             | FALSE                             | FALSE                             |  TRUE                             | FALSE                             |                                   | \n",
       "| 30162                             | W                                 | 18th (54th/Cermak-bound)          | 18th                              | 18th (Pink Line)                  | 40830                             | TRUE                              | FALSE                             | FALSE                             | FALSE                             | FALSE                             | FALSE                             | FALSE                             | FALSE                             |  TRUE                             | FALSE                             |                                   | \n",
       "| 30022                             | N                                 | 35th/Archer (Loop-bound)          | 35th/Archer                       | 35th/Archer (Orange Line)         | 40120                             | TRUE                              | FALSE                             | FALSE                             | FALSE                             | FALSE                             | FALSE                             | FALSE                             | FALSE                             | FALSE                             |  TRUE                             |                                   | \n",
       "| 30023                             | S                                 | 35th/Archer (Midway-bound)        | 35th/Archer                       | 35th/Archer (Orange Line)         | 40120                             | TRUE                              | FALSE                             | FALSE                             | FALSE                             | FALSE                             | FALSE                             | FALSE                             | FALSE                             | FALSE                             |  TRUE                             |                                   | \n",
       "| 30213                             | N                                 | 35-Bronzeville-IIT (Harlem-bound) | 35th-Bronzeville-IIT              | 35th-Bronzeville-IIT (Green Line) | 41120                             | TRUE                              | FALSE                             | FALSE                             |  TRUE                             | FALSE                             | FALSE                             | FALSE                             | FALSE                             | FALSE                             | FALSE                             |                                   | \n",
       "| 30214                             | S                                 | 35-Bronzeville-IIT (63rd-bound)   | 35th-Bronzeville-IIT              | 35th-Bronzeville-IIT (Green Line) | 41120                             | TRUE                              | FALSE                             | FALSE                             |  TRUE                             | FALSE                             | FALSE                             | FALSE                             | FALSE                             | FALSE                             | FALSE                             |                                   | \n",
       "\n",
       "\n"
      ],
      "text/plain": [
       "  stop_id direction_id stop_name                         station_name        \n",
       "1 30161   E            18th (Loop-bound)                 18th                \n",
       "2 30162   W            18th (54th/Cermak-bound)          18th                \n",
       "3 30022   N            35th/Archer (Loop-bound)          35th/Archer         \n",
       "4 30023   S            35th/Archer (Midway-bound)        35th/Archer         \n",
       "5 30213   N            35-Bronzeville-IIT (Harlem-bound) 35th-Bronzeville-IIT\n",
       "6 30214   S            35-Bronzeville-IIT (63rd-bound)   35th-Bronzeville-IIT\n",
       "  station_descriptive_name          map_id ada  red   blue  green brown purple\n",
       "1 18th (Pink Line)                  40830  TRUE FALSE FALSE FALSE FALSE FALSE \n",
       "2 18th (Pink Line)                  40830  TRUE FALSE FALSE FALSE FALSE FALSE \n",
       "3 35th/Archer (Orange Line)         40120  TRUE FALSE FALSE FALSE FALSE FALSE \n",
       "4 35th/Archer (Orange Line)         40120  TRUE FALSE FALSE FALSE FALSE FALSE \n",
       "5 35th-Bronzeville-IIT (Green Line) 41120  TRUE FALSE FALSE  TRUE FALSE FALSE \n",
       "6 35th-Bronzeville-IIT (Green Line) 41120  TRUE FALSE FALSE  TRUE FALSE FALSE \n",
       "  purple_exp yellow pink  orange location\n",
       "1 FALSE      FALSE   TRUE FALSE          \n",
       "2 FALSE      FALSE   TRUE FALSE          \n",
       "3 FALSE      FALSE  FALSE  TRUE          \n",
       "4 FALSE      FALSE  FALSE  TRUE          \n",
       "5 FALSE      FALSE  FALSE FALSE          \n",
       "6 FALSE      FALSE  FALSE FALSE          "
      ]
     },
     "metadata": {},
     "output_type": "display_data"
    }
   ],
   "source": [
    "txt = '<?xml version=\"1.0\" encoding=\"UTF-8\"?>\n",
    "<response>\n",
    "  <row>\n",
    "    <row _id=\"1\" _uuid=\"35A6C0EA-CE03-47C5-987C-825C37C76DF3\" _position=\"1\" _address=\"https://data.cityofchicago.org/resource/_8pix-ypme/1\">\n",
    "      <stop_id>30161</stop_id>\n",
    "      <direction_id>E</direction_id>\n",
    "      <stop_name>18th (Loop-bound)</stop_name>\n",
    "      <station_name>18th</station_name>\n",
    "      <station_descriptive_name>18th (Pink Line)</station_descriptive_name>\n",
    "      <map_id>40830</map_id>\n",
    "      <ada>true</ada>\n",
    "      <red>false</red>\n",
    "      <blue>false</blue>\n",
    "      <g>false</g>\n",
    "      <brn>false</brn>\n",
    "      <p>false</p>\n",
    "      <pexp>false</pexp>\n",
    "      <y>false</y>\n",
    "      <pnk>true</pnk>\n",
    "      <o>false</o>\n",
    "      <location latitude=\"41.857908\" longitude=\"-87.669147\" needs_recoding=\"false\"/>\n",
    "    </row>\n",
    "    <row _id=\"2\" _uuid=\"BC49ED7D-D418-4432-BFB2-7A3DD78A5AAF\" _position=\"2\" _address=\"https://data.cityofchicago.org/resource/_8pix-ypme/2\">\n",
    "      <stop_id>30162</stop_id>\n",
    "      <direction_id>W</direction_id>\n",
    "      <stop_name>18th (54th/Cermak-bound)</stop_name>\n",
    "      <station_name>18th</station_name>\n",
    "      <station_descriptive_name>18th (Pink Line)</station_descriptive_name>\n",
    "      <map_id>40830</map_id>\n",
    "      <ada>true</ada>\n",
    "      <red>false</red>\n",
    "      <blue>false</blue>\n",
    "      <g>false</g>\n",
    "      <brn>false</brn>\n",
    "      <p>false</p>\n",
    "      <pexp>false</pexp>\n",
    "      <y>false</y>\n",
    "      <pnk>true</pnk>\n",
    "      <o>false</o>\n",
    "      <location latitude=\"41.857908\" longitude=\"-87.669147\" needs_recoding=\"false\"/>\n",
    "    </row>\n",
    "    <row _id=\"3\" _uuid=\"F5415CA3-49A6-4334-86A5-C9D1BDC5F74E\" _position=\"3\" _address=\"https://data.cityofchicago.org/resource/_8pix-ypme/3\">\n",
    "      <stop_id>30022</stop_id>\n",
    "      <direction_id>N</direction_id>\n",
    "      <stop_name>35th/Archer (Loop-bound)</stop_name>\n",
    "      <station_name>35th/Archer</station_name>\n",
    "      <station_descriptive_name>35th/Archer (Orange Line)</station_descriptive_name>\n",
    "      <map_id>40120</map_id>\n",
    "      <ada>true</ada>\n",
    "      <red>false</red>\n",
    "      <blue>false</blue>\n",
    "      <g>false</g>\n",
    "      <brn>false</brn>\n",
    "      <p>false</p>\n",
    "      <pexp>false</pexp>\n",
    "      <y>false</y>\n",
    "      <pnk>false</pnk>\n",
    "      <o>true</o>\n",
    "      <location latitude=\"41.829353\" longitude=\"-87.680622\" needs_recoding=\"false\"/>\n",
    "    </row>\n",
    "'\n",
    "library(XML)\n",
    "\n",
    "doc <- xmlParse('DATA/CTA_System_L_Stops.xml')\n",
    "xml_df <- xmlToDataFrame(nodes=getNodeSet(doc, \"//response/row/row\"))\n",
    "\n",
    "# COLUMN NAME CLEAN-UP\n",
    "names(xml_df)[grep(\"^g$|^brn$|^p$|^pexp$|^y$|^pnk$|^o$\", names(xml_df))] <- c(\"green\", \"brown\", \"purple\", \"purple_exp\", \n",
    "                                                                              \"yellow\", \"pink\", \"orange\")\n",
    "\n",
    "# BOOLEAN CONVERSION CLEAN-UP\n",
    "xml_df[c(\"ada\", \"red\", \"blue\", \"green\", \"brown\", \"purple\", \"purple_exp\", \"yellow\", \"pink\", \"orange\")] <- \n",
    "      sapply(xml_df[c(\"ada\", \"red\", \"blue\", \"green\", \"brown\", \"purple\", \"purple_exp\", \"yellow\", \"pink\", \"orange\")], \n",
    "             function(x) ifelse(x == \"true\", TRUE, FALSE))\n",
    "\n",
    "head(xml_df)"
   ]
  },
  {
   "cell_type": "markdown",
   "metadata": {},
   "source": [
    "## JSON Data"
   ]
  },
  {
   "cell_type": "code",
   "execution_count": 3,
   "metadata": {},
   "outputs": [
    {
     "data": {
      "text/html": [
       "<table>\n",
       "<thead><tr><th scope=col>stop_id</th><th scope=col>direction_id</th><th scope=col>stop_name</th><th scope=col>station_name</th><th scope=col>station_descriptive_name</th><th scope=col>map_id</th><th scope=col>ada</th><th scope=col>red</th><th scope=col>blue</th><th scope=col>green</th><th scope=col>brown</th><th scope=col>purple</th><th scope=col>purple_exp</th><th scope=col>yellow</th><th scope=col>pink</th><th scope=col>orange</th><th scope=col>location</th></tr></thead>\n",
       "<tbody>\n",
       "\t<tr><td>30161                            </td><td>E                                </td><td>18th (Loop-bound)                </td><td>18th                             </td><td>18th (Pink Line)                 </td><td>40830                            </td><td>FALSE                            </td><td>FALSE                            </td><td>FALSE                            </td><td>FALSE                            </td><td>FALSE                            </td><td>FALSE                            </td><td>FALSE                            </td><td>FALSE                            </td><td>FALSE                            </td><td>FALSE                            </td><td>                                 </td></tr>\n",
       "\t<tr><td>30162                            </td><td>W                                </td><td>18th (54th/Cermak-bound)         </td><td>18th                             </td><td>18th (Pink Line)                 </td><td>40830                            </td><td>FALSE                            </td><td>FALSE                            </td><td>FALSE                            </td><td>FALSE                            </td><td>FALSE                            </td><td>FALSE                            </td><td>FALSE                            </td><td>FALSE                            </td><td>FALSE                            </td><td>FALSE                            </td><td>                                 </td></tr>\n",
       "\t<tr><td>30022                            </td><td>N                                </td><td>35th/Archer (Loop-bound)         </td><td>35th/Archer                      </td><td>35th/Archer (Orange Line)        </td><td>40120                            </td><td>FALSE                            </td><td>FALSE                            </td><td>FALSE                            </td><td>FALSE                            </td><td>FALSE                            </td><td>FALSE                            </td><td>FALSE                            </td><td>FALSE                            </td><td>FALSE                            </td><td>FALSE                            </td><td>                                 </td></tr>\n",
       "\t<tr><td>30023                            </td><td>S                                </td><td>35th/Archer (Midway-bound)       </td><td>35th/Archer                      </td><td>35th/Archer (Orange Line)        </td><td>40120                            </td><td>FALSE                            </td><td>FALSE                            </td><td>FALSE                            </td><td>FALSE                            </td><td>FALSE                            </td><td>FALSE                            </td><td>FALSE                            </td><td>FALSE                            </td><td>FALSE                            </td><td>FALSE                            </td><td>                                 </td></tr>\n",
       "\t<tr><td>30213                            </td><td>N                                </td><td>35-Bronzeville-IIT (Harlem-bound)</td><td>35th-Bronzeville-IIT             </td><td>35th-Bronzeville-IIT (Green Line)</td><td>41120                            </td><td>FALSE                            </td><td>FALSE                            </td><td>FALSE                            </td><td>FALSE                            </td><td>FALSE                            </td><td>FALSE                            </td><td>FALSE                            </td><td>FALSE                            </td><td>FALSE                            </td><td>FALSE                            </td><td>                                 </td></tr>\n",
       "\t<tr><td>30214                            </td><td>S                                </td><td>35-Bronzeville-IIT (63rd-bound)  </td><td>35th-Bronzeville-IIT             </td><td>35th-Bronzeville-IIT (Green Line)</td><td>41120                            </td><td>FALSE                            </td><td>FALSE                            </td><td>FALSE                            </td><td>FALSE                            </td><td>FALSE                            </td><td>FALSE                            </td><td>FALSE                            </td><td>FALSE                            </td><td>FALSE                            </td><td>FALSE                            </td><td>                                 </td></tr>\n",
       "</tbody>\n",
       "</table>\n"
      ],
      "text/latex": [
       "\\begin{tabular}{r|lllllllllllllllll}\n",
       " stop\\_id & direction\\_id & stop\\_name & station\\_name & station\\_descriptive\\_name & map\\_id & ada & red & blue & green & brown & purple & purple\\_exp & yellow & pink & orange & location\\\\\n",
       "\\hline\n",
       "\t 30161                             & E                                 & 18th (Loop-bound)                 & 18th                              & 18th (Pink Line)                  & 40830                             & FALSE                             & FALSE                             & FALSE                             & FALSE                             & FALSE                             & FALSE                             & FALSE                             & FALSE                             & FALSE                             & FALSE                             &                                  \\\\\n",
       "\t 30162                             & W                                 & 18th (54th/Cermak-bound)          & 18th                              & 18th (Pink Line)                  & 40830                             & FALSE                             & FALSE                             & FALSE                             & FALSE                             & FALSE                             & FALSE                             & FALSE                             & FALSE                             & FALSE                             & FALSE                             &                                  \\\\\n",
       "\t 30022                             & N                                 & 35th/Archer (Loop-bound)          & 35th/Archer                       & 35th/Archer (Orange Line)         & 40120                             & FALSE                             & FALSE                             & FALSE                             & FALSE                             & FALSE                             & FALSE                             & FALSE                             & FALSE                             & FALSE                             & FALSE                             &                                  \\\\\n",
       "\t 30023                             & S                                 & 35th/Archer (Midway-bound)        & 35th/Archer                       & 35th/Archer (Orange Line)         & 40120                             & FALSE                             & FALSE                             & FALSE                             & FALSE                             & FALSE                             & FALSE                             & FALSE                             & FALSE                             & FALSE                             & FALSE                             &                                  \\\\\n",
       "\t 30213                             & N                                 & 35-Bronzeville-IIT (Harlem-bound) & 35th-Bronzeville-IIT              & 35th-Bronzeville-IIT (Green Line) & 41120                             & FALSE                             & FALSE                             & FALSE                             & FALSE                             & FALSE                             & FALSE                             & FALSE                             & FALSE                             & FALSE                             & FALSE                             &                                  \\\\\n",
       "\t 30214                             & S                                 & 35-Bronzeville-IIT (63rd-bound)   & 35th-Bronzeville-IIT              & 35th-Bronzeville-IIT (Green Line) & 41120                             & FALSE                             & FALSE                             & FALSE                             & FALSE                             & FALSE                             & FALSE                             & FALSE                             & FALSE                             & FALSE                             & FALSE                             &                                  \\\\\n",
       "\\end{tabular}\n"
      ],
      "text/markdown": [
       "\n",
       "stop_id | direction_id | stop_name | station_name | station_descriptive_name | map_id | ada | red | blue | green | brown | purple | purple_exp | yellow | pink | orange | location | \n",
       "|---|---|---|---|---|---|\n",
       "| 30161                             | E                                 | 18th (Loop-bound)                 | 18th                              | 18th (Pink Line)                  | 40830                             | FALSE                             | FALSE                             | FALSE                             | FALSE                             | FALSE                             | FALSE                             | FALSE                             | FALSE                             | FALSE                             | FALSE                             |                                   | \n",
       "| 30162                             | W                                 | 18th (54th/Cermak-bound)          | 18th                              | 18th (Pink Line)                  | 40830                             | FALSE                             | FALSE                             | FALSE                             | FALSE                             | FALSE                             | FALSE                             | FALSE                             | FALSE                             | FALSE                             | FALSE                             |                                   | \n",
       "| 30022                             | N                                 | 35th/Archer (Loop-bound)          | 35th/Archer                       | 35th/Archer (Orange Line)         | 40120                             | FALSE                             | FALSE                             | FALSE                             | FALSE                             | FALSE                             | FALSE                             | FALSE                             | FALSE                             | FALSE                             | FALSE                             |                                   | \n",
       "| 30023                             | S                                 | 35th/Archer (Midway-bound)        | 35th/Archer                       | 35th/Archer (Orange Line)         | 40120                             | FALSE                             | FALSE                             | FALSE                             | FALSE                             | FALSE                             | FALSE                             | FALSE                             | FALSE                             | FALSE                             | FALSE                             |                                   | \n",
       "| 30213                             | N                                 | 35-Bronzeville-IIT (Harlem-bound) | 35th-Bronzeville-IIT              | 35th-Bronzeville-IIT (Green Line) | 41120                             | FALSE                             | FALSE                             | FALSE                             | FALSE                             | FALSE                             | FALSE                             | FALSE                             | FALSE                             | FALSE                             | FALSE                             |                                   | \n",
       "| 30214                             | S                                 | 35-Bronzeville-IIT (63rd-bound)   | 35th-Bronzeville-IIT              | 35th-Bronzeville-IIT (Green Line) | 41120                             | FALSE                             | FALSE                             | FALSE                             | FALSE                             | FALSE                             | FALSE                             | FALSE                             | FALSE                             | FALSE                             | FALSE                             |                                   | \n",
       "\n",
       "\n"
      ],
      "text/plain": [
       "  stop_id direction_id stop_name                         station_name        \n",
       "1 30161   E            18th (Loop-bound)                 18th                \n",
       "2 30162   W            18th (54th/Cermak-bound)          18th                \n",
       "3 30022   N            35th/Archer (Loop-bound)          35th/Archer         \n",
       "4 30023   S            35th/Archer (Midway-bound)        35th/Archer         \n",
       "5 30213   N            35-Bronzeville-IIT (Harlem-bound) 35th-Bronzeville-IIT\n",
       "6 30214   S            35-Bronzeville-IIT (63rd-bound)   35th-Bronzeville-IIT\n",
       "  station_descriptive_name          map_id ada   red   blue  green brown purple\n",
       "1 18th (Pink Line)                  40830  FALSE FALSE FALSE FALSE FALSE FALSE \n",
       "2 18th (Pink Line)                  40830  FALSE FALSE FALSE FALSE FALSE FALSE \n",
       "3 35th/Archer (Orange Line)         40120  FALSE FALSE FALSE FALSE FALSE FALSE \n",
       "4 35th/Archer (Orange Line)         40120  FALSE FALSE FALSE FALSE FALSE FALSE \n",
       "5 35th-Bronzeville-IIT (Green Line) 41120  FALSE FALSE FALSE FALSE FALSE FALSE \n",
       "6 35th-Bronzeville-IIT (Green Line) 41120  FALSE FALSE FALSE FALSE FALSE FALSE \n",
       "  purple_exp yellow pink  orange location\n",
       "1 FALSE      FALSE  FALSE FALSE          \n",
       "2 FALSE      FALSE  FALSE FALSE          \n",
       "3 FALSE      FALSE  FALSE FALSE          \n",
       "4 FALSE      FALSE  FALSE FALSE          \n",
       "5 FALSE      FALSE  FALSE FALSE          \n",
       "6 FALSE      FALSE  FALSE FALSE          "
      ]
     },
     "metadata": {},
     "output_type": "display_data"
    }
   ],
   "source": [
    "txt = '[\n",
    "    {\n",
    "        \"y\": false,\n",
    "        \"map_id\": \"40830\",\n",
    "        \"station_descriptive_name\": \"18th (Pink Line)\",\n",
    "        \"pexp\": false,\n",
    "        \"longitude\": \"-87.669147\",\n",
    "        \"red\": false,\n",
    "        \"stop_name\": \"18th (Loop-bound)\",\n",
    "        \"brn\": false,\n",
    "        \"p\": false,\n",
    "        \"g\": false,\n",
    "        \"ada\": true,\n",
    "        \"latitude\": \"41.857908\",\n",
    "        \"station_name\": \"18th\",\n",
    "        \"blue\": false,\n",
    "        \"stop_id\": \"30161\",\n",
    "        \"pnk\": true,\n",
    "        \"direction_id\": \"E\",\n",
    "        \"o\": false\n",
    "    },\n",
    "    {\n",
    "        \"y\": false,\n",
    "        \"map_id\": \"40830\",\n",
    "        \"station_descriptive_name\": \"18th (Pink Line)\",\n",
    "        \"pexp\": false,\n",
    "        \"longitude\": \"-87.669147\",\n",
    "        \"red\": false,\n",
    "        \"stop_name\": \"18th (54th/Cermak-bound)\",\n",
    "        \"brn\": false,\n",
    "        \"p\": false,\n",
    "        \"g\": false,\n",
    "        \"ada\": true,\n",
    "        \"latitude\": \"41.857908\",\n",
    "        \"station_name\": \"18th\",\n",
    "        \"blue\": false,\n",
    "        \"stop_id\": \"30162\",\n",
    "        \"pnk\": true,\n",
    "        \"direction_id\": \"W\",\n",
    "        \"o\": false\n",
    "    },\n",
    "    ...\n",
    "'\n",
    "\n",
    "library(jsonlite)\n",
    "\n",
    "# CONVERT TO JSON\n",
    "x <- toJSON(xml_df, pretty=TRUE)\n",
    "\n",
    "# EXPORT TO FILE\n",
    "fileConn<-file(\"DATA/CTA_System_L_Stops.json\")\n",
    "writeLines(x, fileConn)\n",
    "close(fileConn)\n",
    "\n",
    "rm(fileConn, x, txt)\n",
    "\n",
    "\n",
    "json_df <- do.call(rbind, lapply(paste(readLines(\"DATA/CTA_System_L_Stops.json\", warn=FALSE), collapse=\"\"), \n",
    "                                 jsonlite::fromJSON))\n",
    "\n",
    "# COLUMN NAME CLEAN-UP\n",
    "names(json_df)[grep(\"^g$|^brn$|^p$|^pexp$|^y$|^pnk$|^o$\", names(json_df))] <- c(\"green\", \"brown\", \"purple\", \"purple_exp\", \n",
    "                                                                                \"yellow\", \"pink\", \"orange\")\n",
    "\n",
    "# BOOLEAN CONVERSION CLEAN-UP\n",
    "json_df[c(\"ada\", \"red\", \"blue\", \"green\", \"brown\", \"purple\", \"purple_exp\", \"yellow\", \"pink\", \"orange\")] <- \n",
    "      sapply(json_df[c(\"ada\", \"red\", \"blue\", \"green\", \"brown\", \"purple\", \"purple_exp\", \"yellow\", \"pink\", \"orange\")], \n",
    "             function(x) ifelse(x == \"true\", TRUE, FALSE))\n",
    "             \n",
    "head(json_df)"
   ]
  },
  {
   "cell_type": "markdown",
   "metadata": {},
   "source": [
    "## SQL Data"
   ]
  },
  {
   "cell_type": "code",
   "execution_count": 39,
   "metadata": {},
   "outputs": [
    {
     "data": {
      "text/html": [
       "<table>\n",
       "<thead><tr><th scope=col>station_id</th><th scope=col>stationname</th><th scope=col>date</th><th scope=col>daytype</th><th scope=col>rides</th><th scope=col>stop_id</th><th scope=col>direction_id</th><th scope=col>stop_name</th><th scope=col>station_name</th><th scope=col>station_descriptive_name</th><th scope=col>⋯</th><th scope=col>red</th><th scope=col>blue</th><th scope=col>green</th><th scope=col>brown</th><th scope=col>purple</th><th scope=col>purple_exp</th><th scope=col>yellow</th><th scope=col>pink</th><th scope=col>orange</th><th scope=col>location</th></tr></thead>\n",
       "<tbody>\n",
       "\t<tr><td>40830            </td><td>18th             </td><td>978328800        </td><td>U                </td><td>  0              </td><td>30161            </td><td>E                </td><td>18th (Loop-bound)</td><td>18th             </td><td>18th (Pink Line) </td><td>⋯                </td><td>0                </td><td>0                </td><td>0                </td><td>0                </td><td>0                </td><td>0                </td><td>0                </td><td>1                </td><td>0                </td><td>                 </td></tr>\n",
       "\t<tr><td>40830            </td><td>18th             </td><td>978415200        </td><td>W                </td><td>813              </td><td>30161            </td><td>E                </td><td>18th (Loop-bound)</td><td>18th             </td><td>18th (Pink Line) </td><td>⋯                </td><td>0                </td><td>0                </td><td>0                </td><td>0                </td><td>0                </td><td>0                </td><td>0                </td><td>1                </td><td>0                </td><td>                 </td></tr>\n",
       "\t<tr><td>40830            </td><td>18th             </td><td>978501600        </td><td>W                </td><td>881              </td><td>30161            </td><td>E                </td><td>18th (Loop-bound)</td><td>18th             </td><td>18th (Pink Line) </td><td>⋯                </td><td>0                </td><td>0                </td><td>0                </td><td>0                </td><td>0                </td><td>0                </td><td>0                </td><td>1                </td><td>0                </td><td>                 </td></tr>\n",
       "\t<tr><td>40830            </td><td>18th             </td><td>978588000        </td><td>W                </td><td>884              </td><td>30161            </td><td>E                </td><td>18th (Loop-bound)</td><td>18th             </td><td>18th (Pink Line) </td><td>⋯                </td><td>0                </td><td>0                </td><td>0                </td><td>0                </td><td>0                </td><td>0                </td><td>0                </td><td>1                </td><td>0                </td><td>                 </td></tr>\n",
       "\t<tr><td>40830            </td><td>18th             </td><td>978674400        </td><td>W                </td><td>925              </td><td>30161            </td><td>E                </td><td>18th (Loop-bound)</td><td>18th             </td><td>18th (Pink Line) </td><td>⋯                </td><td>0                </td><td>0                </td><td>0                </td><td>0                </td><td>0                </td><td>0                </td><td>0                </td><td>1                </td><td>0                </td><td>                 </td></tr>\n",
       "\t<tr><td>40830            </td><td>18th             </td><td>978760800        </td><td>A                </td><td>  2              </td><td>30161            </td><td>E                </td><td>18th (Loop-bound)</td><td>18th             </td><td>18th (Pink Line) </td><td>⋯                </td><td>0                </td><td>0                </td><td>0                </td><td>0                </td><td>0                </td><td>0                </td><td>0                </td><td>1                </td><td>0                </td><td>                 </td></tr>\n",
       "</tbody>\n",
       "</table>\n"
      ],
      "text/latex": [
       "\\begin{tabular}{r|llllllllllllllllllllll}\n",
       " station\\_id & stationname & date & daytype & rides & stop\\_id & direction\\_id & stop\\_name & station\\_name & station\\_descriptive\\_name & ⋯ & red & blue & green & brown & purple & purple\\_exp & yellow & pink & orange & location\\\\\n",
       "\\hline\n",
       "\t 40830             & 18th              & 978328800         & U                 &   0               & 30161             & E                 & 18th (Loop-bound) & 18th              & 18th (Pink Line)  & ⋯                 & 0                 & 0                 & 0                 & 0                 & 0                 & 0                 & 0                 & 1                 & 0                 &                  \\\\\n",
       "\t 40830             & 18th              & 978415200         & W                 & 813               & 30161             & E                 & 18th (Loop-bound) & 18th              & 18th (Pink Line)  & ⋯                 & 0                 & 0                 & 0                 & 0                 & 0                 & 0                 & 0                 & 1                 & 0                 &                  \\\\\n",
       "\t 40830             & 18th              & 978501600         & W                 & 881               & 30161             & E                 & 18th (Loop-bound) & 18th              & 18th (Pink Line)  & ⋯                 & 0                 & 0                 & 0                 & 0                 & 0                 & 0                 & 0                 & 1                 & 0                 &                  \\\\\n",
       "\t 40830             & 18th              & 978588000         & W                 & 884               & 30161             & E                 & 18th (Loop-bound) & 18th              & 18th (Pink Line)  & ⋯                 & 0                 & 0                 & 0                 & 0                 & 0                 & 0                 & 0                 & 1                 & 0                 &                  \\\\\n",
       "\t 40830             & 18th              & 978674400         & W                 & 925               & 30161             & E                 & 18th (Loop-bound) & 18th              & 18th (Pink Line)  & ⋯                 & 0                 & 0                 & 0                 & 0                 & 0                 & 0                 & 0                 & 1                 & 0                 &                  \\\\\n",
       "\t 40830             & 18th              & 978760800         & A                 &   2               & 30161             & E                 & 18th (Loop-bound) & 18th              & 18th (Pink Line)  & ⋯                 & 0                 & 0                 & 0                 & 0                 & 0                 & 0                 & 0                 & 1                 & 0                 &                  \\\\\n",
       "\\end{tabular}\n"
      ],
      "text/markdown": [
       "\n",
       "station_id | stationname | date | daytype | rides | stop_id | direction_id | stop_name | station_name | station_descriptive_name | ⋯ | red | blue | green | brown | purple | purple_exp | yellow | pink | orange | location | \n",
       "|---|---|---|---|---|---|\n",
       "| 40830             | 18th              | 978328800         | U                 |   0               | 30161             | E                 | 18th (Loop-bound) | 18th              | 18th (Pink Line)  | ⋯                 | 0                 | 0                 | 0                 | 0                 | 0                 | 0                 | 0                 | 1                 | 0                 |                   | \n",
       "| 40830             | 18th              | 978415200         | W                 | 813               | 30161             | E                 | 18th (Loop-bound) | 18th              | 18th (Pink Line)  | ⋯                 | 0                 | 0                 | 0                 | 0                 | 0                 | 0                 | 0                 | 1                 | 0                 |                   | \n",
       "| 40830             | 18th              | 978501600         | W                 | 881               | 30161             | E                 | 18th (Loop-bound) | 18th              | 18th (Pink Line)  | ⋯                 | 0                 | 0                 | 0                 | 0                 | 0                 | 0                 | 0                 | 1                 | 0                 |                   | \n",
       "| 40830             | 18th              | 978588000         | W                 | 884               | 30161             | E                 | 18th (Loop-bound) | 18th              | 18th (Pink Line)  | ⋯                 | 0                 | 0                 | 0                 | 0                 | 0                 | 0                 | 0                 | 1                 | 0                 |                   | \n",
       "| 40830             | 18th              | 978674400         | W                 | 925               | 30161             | E                 | 18th (Loop-bound) | 18th              | 18th (Pink Line)  | ⋯                 | 0                 | 0                 | 0                 | 0                 | 0                 | 0                 | 0                 | 1                 | 0                 |                   | \n",
       "| 40830             | 18th              | 978760800         | A                 |   2               | 30161             | E                 | 18th (Loop-bound) | 18th              | 18th (Pink Line)  | ⋯                 | 0                 | 0                 | 0                 | 0                 | 0                 | 0                 | 0                 | 1                 | 0                 |                   | \n",
       "\n",
       "\n"
      ],
      "text/plain": [
       "  station_id stationname date      daytype rides stop_id direction_id\n",
       "1 40830      18th        978328800 U         0   30161   E           \n",
       "2 40830      18th        978415200 W       813   30161   E           \n",
       "3 40830      18th        978501600 W       881   30161   E           \n",
       "4 40830      18th        978588000 W       884   30161   E           \n",
       "5 40830      18th        978674400 W       925   30161   E           \n",
       "6 40830      18th        978760800 A         2   30161   E           \n",
       "  stop_name         station_name station_descriptive_name ⋯ red blue green\n",
       "1 18th (Loop-bound) 18th         18th (Pink Line)         ⋯ 0   0    0    \n",
       "2 18th (Loop-bound) 18th         18th (Pink Line)         ⋯ 0   0    0    \n",
       "3 18th (Loop-bound) 18th         18th (Pink Line)         ⋯ 0   0    0    \n",
       "4 18th (Loop-bound) 18th         18th (Pink Line)         ⋯ 0   0    0    \n",
       "5 18th (Loop-bound) 18th         18th (Pink Line)         ⋯ 0   0    0    \n",
       "6 18th (Loop-bound) 18th         18th (Pink Line)         ⋯ 0   0    0    \n",
       "  brown purple purple_exp yellow pink orange location\n",
       "1 0     0      0          0      1    0              \n",
       "2 0     0      0          0      1    0              \n",
       "3 0     0      0          0      1    0              \n",
       "4 0     0      0          0      1    0              \n",
       "5 0     0      0          0      1    0              \n",
       "6 0     0      0          0      1    0              "
      ]
     },
     "metadata": {},
     "output_type": "display_data"
    }
   ],
   "source": [
    "library(DBI)\n",
    "library(RSQLite)\n",
    "\n",
    "conn <- dbConnect(SQLite(), dbname = \"DATA/CTA_Data.db\")\n",
    "\n",
    "### EXPORT DATAFRAMES\n",
    "rides_df$date <- as.POSIXct(as.character(rides_df$date), format=\"%m/%d/%Y\")\n",
    "\n",
    "dbWriteTable(conn, name=\"Ridership\", value=rides_df, overwrite=TRUE)\n",
    "dbWriteTable(conn, name=\"Stations\", value=xml_df, overwrite=TRUE)\n",
    "\n",
    "### CREATE INDEXES\n",
    "output <- dbSendQuery(conn, \"CREATE INDEX station_idx ON Ridership (station_id)\")\n",
    "dbClearResult(output)\n",
    "\n",
    "output <- dbSendQuery(conn, \"CREATE INDEX map_idx ON Stations (map_id)\")\n",
    "dbClearResult(output)\n",
    "\n",
    "### IMPORT DATAFRAME\n",
    "sql_df <- dbGetQuery(conn, \"SELECT * FROM Ridership r INNER JOIN Stations s ON r.station_id = s.map_id\")\n",
    "\n",
    "dbDisconnect(conn)\n",
    "\n",
    "head(sql_df)"
   ]
  },
  {
   "cell_type": "code",
   "execution_count": 11,
   "metadata": {},
   "outputs": [
    {
     "data": {
      "text/html": [
       "<ol class=list-inline>\n",
       "\t<li>1851314</li>\n",
       "\t<li>22</li>\n",
       "</ol>\n"
      ],
      "text/latex": [
       "\\begin{enumerate*}\n",
       "\\item 1851314\n",
       "\\item 22\n",
       "\\end{enumerate*}\n"
      ],
      "text/markdown": [
       "1. 1851314\n",
       "2. 22\n",
       "\n",
       "\n"
      ],
      "text/plain": [
       "[1] 1851314      22"
      ]
     },
     "metadata": {},
     "output_type": "display_data"
    }
   ],
   "source": [
    "dim(sql_df)"
   ]
  },
  {
   "cell_type": "markdown",
   "metadata": {},
   "source": [
    "## Data Processing"
   ]
  },
  {
   "cell_type": "code",
   "execution_count": 11,
   "metadata": {
    "scrolled": true
   },
   "outputs": [
    {
     "data": {
      "text/html": [
       "<table>\n",
       "<thead><tr><th></th><th scope=col>station_id</th><th scope=col>stationname</th><th scope=col>date</th><th scope=col>daytype</th><th scope=col>rides</th></tr></thead>\n",
       "<tbody>\n",
       "\t<tr><th scope=row>37</th><td>40380     </td><td>Clark/Lake</td><td>2001-01-01</td><td>U         </td><td> 1080     </td></tr>\n",
       "\t<tr><th scope=row>178</th><td>40380     </td><td>Clark/Lake</td><td>2001-01-02</td><td>W         </td><td>13263     </td></tr>\n",
       "\t<tr><th scope=row>319</th><td>40380     </td><td>Clark/Lake</td><td>2001-01-03</td><td>W         </td><td>14416     </td></tr>\n",
       "\t<tr><th scope=row>460</th><td>40380     </td><td>Clark/Lake</td><td>2001-01-04</td><td>W         </td><td>15118     </td></tr>\n",
       "\t<tr><th scope=row>601</th><td>40380     </td><td>Clark/Lake</td><td>2001-01-05</td><td>W         </td><td>14980     </td></tr>\n",
       "\t<tr><th scope=row>742</th><td>40380     </td><td>Clark/Lake</td><td>2001-01-06</td><td>A         </td><td> 2267     </td></tr>\n",
       "</tbody>\n",
       "</table>\n"
      ],
      "text/latex": [
       "\\begin{tabular}{r|lllll}\n",
       "  & station\\_id & stationname & date & daytype & rides\\\\\n",
       "\\hline\n",
       "\t37 & 40380      & Clark/Lake & 2001-01-01 & U          &  1080     \\\\\n",
       "\t178 & 40380      & Clark/Lake & 2001-01-02 & W          & 13263     \\\\\n",
       "\t319 & 40380      & Clark/Lake & 2001-01-03 & W          & 14416     \\\\\n",
       "\t460 & 40380      & Clark/Lake & 2001-01-04 & W          & 15118     \\\\\n",
       "\t601 & 40380      & Clark/Lake & 2001-01-05 & W          & 14980     \\\\\n",
       "\t742 & 40380      & Clark/Lake & 2001-01-06 & A          &  2267     \\\\\n",
       "\\end{tabular}\n"
      ],
      "text/markdown": [
       "\n",
       "| <!--/--> | station_id | stationname | date | daytype | rides | \n",
       "|---|---|---|---|---|---|\n",
       "| 37 | 40380      | Clark/Lake | 2001-01-01 | U          |  1080      | \n",
       "| 178 | 40380      | Clark/Lake | 2001-01-02 | W          | 13263      | \n",
       "| 319 | 40380      | Clark/Lake | 2001-01-03 | W          | 14416      | \n",
       "| 460 | 40380      | Clark/Lake | 2001-01-04 | W          | 15118      | \n",
       "| 601 | 40380      | Clark/Lake | 2001-01-05 | W          | 14980      | \n",
       "| 742 | 40380      | Clark/Lake | 2001-01-06 | A          |  2267      | \n",
       "\n",
       "\n"
      ],
      "text/plain": [
       "    station_id stationname date       daytype rides\n",
       "37  40380      Clark/Lake  2001-01-01 U        1080\n",
       "178 40380      Clark/Lake  2001-01-02 W       13263\n",
       "319 40380      Clark/Lake  2001-01-03 W       14416\n",
       "460 40380      Clark/Lake  2001-01-04 W       15118\n",
       "601 40380      Clark/Lake  2001-01-05 W       14980\n",
       "742 40380      Clark/Lake  2001-01-06 A        2267"
      ]
     },
     "metadata": {},
     "output_type": "display_data"
    },
    {
     "data": {
      "text/html": [
       "<table>\n",
       "<thead><tr><th></th><th scope=col>station_id</th><th scope=col>stationname</th><th scope=col>date</th><th scope=col>daytype</th><th scope=col>rides</th></tr></thead>\n",
       "<tbody>\n",
       "\t<tr><th scope=row>44</th><td>40460           </td><td>Merchandise Mart</td><td>2001-01-01      </td><td>U               </td><td> 185            </td></tr>\n",
       "\t<tr><th scope=row>185</th><td>40460           </td><td>Merchandise Mart</td><td>2001-01-02      </td><td>W               </td><td>5350            </td></tr>\n",
       "\t<tr><th scope=row>326</th><td>40460           </td><td>Merchandise Mart</td><td>2001-01-03      </td><td>W               </td><td>5766            </td></tr>\n",
       "\t<tr><th scope=row>467</th><td>40460           </td><td>Merchandise Mart</td><td>2001-01-04      </td><td>W               </td><td>5824            </td></tr>\n",
       "\t<tr><th scope=row>608</th><td>40460           </td><td>Merchandise Mart</td><td>2001-01-05      </td><td>W               </td><td>5554            </td></tr>\n",
       "\t<tr><th scope=row>749</th><td>40460           </td><td>Merchandise Mart</td><td>2001-01-06      </td><td>A               </td><td> 775            </td></tr>\n",
       "</tbody>\n",
       "</table>\n"
      ],
      "text/latex": [
       "\\begin{tabular}{r|lllll}\n",
       "  & station\\_id & stationname & date & daytype & rides\\\\\n",
       "\\hline\n",
       "\t44 & 40460            & Merchandise Mart & 2001-01-01       & U                &  185            \\\\\n",
       "\t185 & 40460            & Merchandise Mart & 2001-01-02       & W                & 5350            \\\\\n",
       "\t326 & 40460            & Merchandise Mart & 2001-01-03       & W                & 5766            \\\\\n",
       "\t467 & 40460            & Merchandise Mart & 2001-01-04       & W                & 5824            \\\\\n",
       "\t608 & 40460            & Merchandise Mart & 2001-01-05       & W                & 5554            \\\\\n",
       "\t749 & 40460            & Merchandise Mart & 2001-01-06       & A                &  775            \\\\\n",
       "\\end{tabular}\n"
      ],
      "text/markdown": [
       "\n",
       "| <!--/--> | station_id | stationname | date | daytype | rides | \n",
       "|---|---|---|---|---|---|\n",
       "| 44 | 40460            | Merchandise Mart | 2001-01-01       | U                |  185             | \n",
       "| 185 | 40460            | Merchandise Mart | 2001-01-02       | W                | 5350             | \n",
       "| 326 | 40460            | Merchandise Mart | 2001-01-03       | W                | 5766             | \n",
       "| 467 | 40460            | Merchandise Mart | 2001-01-04       | W                | 5824             | \n",
       "| 608 | 40460            | Merchandise Mart | 2001-01-05       | W                | 5554             | \n",
       "| 749 | 40460            | Merchandise Mart | 2001-01-06       | A                |  775             | \n",
       "\n",
       "\n"
      ],
      "text/plain": [
       "    station_id stationname      date       daytype rides\n",
       "44  40460      Merchandise Mart 2001-01-01 U        185 \n",
       "185 40460      Merchandise Mart 2001-01-02 W       5350 \n",
       "326 40460      Merchandise Mart 2001-01-03 W       5766 \n",
       "467 40460      Merchandise Mart 2001-01-04 W       5824 \n",
       "608 40460      Merchandise Mart 2001-01-05 W       5554 \n",
       "749 40460      Merchandise Mart 2001-01-06 A        775 "
      ]
     },
     "metadata": {},
     "output_type": "display_data"
    },
    {
     "data": {
      "text/html": [
       "<table>\n",
       "<thead><tr><th></th><th scope=col>station_id</th><th scope=col>stationname</th><th scope=col>date</th><th scope=col>daytype</th><th scope=col>rides</th></tr></thead>\n",
       "<tbody>\n",
       "\t<tr><th scope=row>121</th><td>41280         </td><td>Jefferson Park</td><td>2001-01-01    </td><td>U             </td><td>1302          </td></tr>\n",
       "\t<tr><th scope=row>262</th><td>41280         </td><td>Jefferson Park</td><td>2001-01-02    </td><td>W             </td><td>5812          </td></tr>\n",
       "\t<tr><th scope=row>403</th><td>41280         </td><td>Jefferson Park</td><td>2001-01-03    </td><td>W             </td><td>6171          </td></tr>\n",
       "\t<tr><th scope=row>544</th><td>41280         </td><td>Jefferson Park</td><td>2001-01-04    </td><td>W             </td><td>6385          </td></tr>\n",
       "\t<tr><th scope=row>685</th><td>41280         </td><td>Jefferson Park</td><td>2001-01-05    </td><td>W             </td><td>6334          </td></tr>\n",
       "\t<tr><th scope=row>826</th><td>41280         </td><td>Jefferson Park</td><td>2001-01-06    </td><td>A             </td><td>2692          </td></tr>\n",
       "</tbody>\n",
       "</table>\n"
      ],
      "text/latex": [
       "\\begin{tabular}{r|lllll}\n",
       "  & station\\_id & stationname & date & daytype & rides\\\\\n",
       "\\hline\n",
       "\t121 & 41280          & Jefferson Park & 2001-01-01     & U              & 1302          \\\\\n",
       "\t262 & 41280          & Jefferson Park & 2001-01-02     & W              & 5812          \\\\\n",
       "\t403 & 41280          & Jefferson Park & 2001-01-03     & W              & 6171          \\\\\n",
       "\t544 & 41280          & Jefferson Park & 2001-01-04     & W              & 6385          \\\\\n",
       "\t685 & 41280          & Jefferson Park & 2001-01-05     & W              & 6334          \\\\\n",
       "\t826 & 41280          & Jefferson Park & 2001-01-06     & A              & 2692          \\\\\n",
       "\\end{tabular}\n"
      ],
      "text/markdown": [
       "\n",
       "| <!--/--> | station_id | stationname | date | daytype | rides | \n",
       "|---|---|---|---|---|---|\n",
       "| 121 | 41280          | Jefferson Park | 2001-01-01     | U              | 1302           | \n",
       "| 262 | 41280          | Jefferson Park | 2001-01-02     | W              | 5812           | \n",
       "| 403 | 41280          | Jefferson Park | 2001-01-03     | W              | 6171           | \n",
       "| 544 | 41280          | Jefferson Park | 2001-01-04     | W              | 6385           | \n",
       "| 685 | 41280          | Jefferson Park | 2001-01-05     | W              | 6334           | \n",
       "| 826 | 41280          | Jefferson Park | 2001-01-06     | A              | 2692           | \n",
       "\n",
       "\n"
      ],
      "text/plain": [
       "    station_id stationname    date       daytype rides\n",
       "121 41280      Jefferson Park 2001-01-01 U       1302 \n",
       "262 41280      Jefferson Park 2001-01-02 W       5812 \n",
       "403 41280      Jefferson Park 2001-01-03 W       6171 \n",
       "544 41280      Jefferson Park 2001-01-04 W       6385 \n",
       "685 41280      Jefferson Park 2001-01-05 W       6334 \n",
       "826 41280      Jefferson Park 2001-01-06 A       2692 "
      ]
     },
     "metadata": {},
     "output_type": "display_data"
    }
   ],
   "source": [
    "### BUILD A LIST OF GROUPED DATA FRAMES\n",
    "stations_dfs <- split(rides_df, rides_df$stationname)\n",
    "\n",
    "head(stations_dfs$`Clark/Lake`)\n",
    "\n",
    "head(stations_dfs$`Merchandise Mart`)\n",
    "\n",
    "head(stations_dfs$`Jefferson Park`)"
   ]
  },
  {
   "cell_type": "code",
   "execution_count": 14,
   "metadata": {},
   "outputs": [
    {
     "data": {
      "text/html": [
       "<table>\n",
       "<thead><tr><th></th><th scope=col>station_id</th><th scope=col>stationname</th><th scope=col>date</th><th scope=col>daytype</th><th scope=col>rides</th></tr></thead>\n",
       "<tbody>\n",
       "\t<tr><th scope=row>80</th><td>40830     </td><td>18th      </td><td>2001-01-01</td><td>U         </td><td>  0       </td></tr>\n",
       "\t<tr><th scope=row>221</th><td>40830     </td><td>18th      </td><td>2001-01-02</td><td>W         </td><td>813       </td></tr>\n",
       "\t<tr><th scope=row>362</th><td>40830     </td><td>18th      </td><td>2001-01-03</td><td>W         </td><td>881       </td></tr>\n",
       "\t<tr><th scope=row>503</th><td>40830     </td><td>18th      </td><td>2001-01-04</td><td>W         </td><td>884       </td></tr>\n",
       "\t<tr><th scope=row>644</th><td>40830     </td><td>18th      </td><td>2001-01-05</td><td>W         </td><td>925       </td></tr>\n",
       "\t<tr><th scope=row>785</th><td>40830     </td><td>18th      </td><td>2001-01-06</td><td>A         </td><td>  2       </td></tr>\n",
       "\t<tr><th scope=row>926</th><td>40830     </td><td>18th      </td><td>2001-01-07</td><td>U         </td><td>  0       </td></tr>\n",
       "\t<tr><th scope=row>1067</th><td>40830     </td><td>18th      </td><td>2001-01-08</td><td>W         </td><td>981       </td></tr>\n",
       "\t<tr><th scope=row>1208</th><td>40830     </td><td>18th      </td><td>2001-01-09</td><td>W         </td><td>979       </td></tr>\n",
       "\t<tr><th scope=row>1349</th><td>40830     </td><td>18th      </td><td>2001-01-10</td><td>W         </td><td>987       </td></tr>\n",
       "</tbody>\n",
       "</table>\n"
      ],
      "text/latex": [
       "\\begin{tabular}{r|lllll}\n",
       "  & station\\_id & stationname & date & daytype & rides\\\\\n",
       "\\hline\n",
       "\t80 & 40830      & 18th       & 2001-01-01 & U          &   0       \\\\\n",
       "\t221 & 40830      & 18th       & 2001-01-02 & W          & 813       \\\\\n",
       "\t362 & 40830      & 18th       & 2001-01-03 & W          & 881       \\\\\n",
       "\t503 & 40830      & 18th       & 2001-01-04 & W          & 884       \\\\\n",
       "\t644 & 40830      & 18th       & 2001-01-05 & W          & 925       \\\\\n",
       "\t785 & 40830      & 18th       & 2001-01-06 & A          &   2       \\\\\n",
       "\t926 & 40830      & 18th       & 2001-01-07 & U          &   0       \\\\\n",
       "\t1067 & 40830      & 18th       & 2001-01-08 & W          & 981       \\\\\n",
       "\t1208 & 40830      & 18th       & 2001-01-09 & W          & 979       \\\\\n",
       "\t1349 & 40830      & 18th       & 2001-01-10 & W          & 987       \\\\\n",
       "\\end{tabular}\n"
      ],
      "text/markdown": [
       "\n",
       "| <!--/--> | station_id | stationname | date | daytype | rides | \n",
       "|---|---|---|---|---|---|---|---|---|---|\n",
       "| 80 | 40830      | 18th       | 2001-01-01 | U          |   0        | \n",
       "| 221 | 40830      | 18th       | 2001-01-02 | W          | 813        | \n",
       "| 362 | 40830      | 18th       | 2001-01-03 | W          | 881        | \n",
       "| 503 | 40830      | 18th       | 2001-01-04 | W          | 884        | \n",
       "| 644 | 40830      | 18th       | 2001-01-05 | W          | 925        | \n",
       "| 785 | 40830      | 18th       | 2001-01-06 | A          |   2        | \n",
       "| 926 | 40830      | 18th       | 2001-01-07 | U          |   0        | \n",
       "| 1067 | 40830      | 18th       | 2001-01-08 | W          | 981        | \n",
       "| 1208 | 40830      | 18th       | 2001-01-09 | W          | 979        | \n",
       "| 1349 | 40830      | 18th       | 2001-01-10 | W          | 987        | \n",
       "\n",
       "\n"
      ],
      "text/plain": [
       "     station_id stationname date       daytype rides\n",
       "80   40830      18th        2001-01-01 U         0  \n",
       "221  40830      18th        2001-01-02 W       813  \n",
       "362  40830      18th        2001-01-03 W       881  \n",
       "503  40830      18th        2001-01-04 W       884  \n",
       "644  40830      18th        2001-01-05 W       925  \n",
       "785  40830      18th        2001-01-06 A         2  \n",
       "926  40830      18th        2001-01-07 U         0  \n",
       "1067 40830      18th        2001-01-08 W       981  \n",
       "1208 40830      18th        2001-01-09 W       979  \n",
       "1349 40830      18th        2001-01-10 W       987  "
      ]
     },
     "metadata": {},
     "output_type": "display_data"
    }
   ],
   "source": [
    "head(do.call(rbind, unname(stations_dfs)), 10)"
   ]
  },
  {
   "cell_type": "markdown",
   "metadata": {},
   "source": [
    "## Data Diagnostics"
   ]
  },
  {
   "cell_type": "code",
   "execution_count": 5,
   "metadata": {},
   "outputs": [
    {
     "data": {},
     "metadata": {},
     "output_type": "display_data"
    },
    {
     "data": {
      "image/png": "[encoded data removed]",
      "text/plain": [
       "plot without title"
      ]
     },
     "metadata": {},
     "output_type": "display_data"
    }
   ],
   "source": [
    "library(ggplot2)\n",
    "library(scales)\n",
    "\n",
    "options(repr.plot.width=10, repr.plot.height=4)\n",
    "\n",
    "seabornPalette <- c(\"#4c72b0\",\"#55a868\",\"#c44e52\",\"#8172b2\",\"#ccb974\",\"#64b5cd\",\"#4c72b0\",\"#55a868\",\"#c44e52\",\"#8172b2\",\n",
    "                    \"#ccb974\",\"#64b5cd\",\"#4c72b0\",\"#55a868\",\"#c44e52\",\"#8172b2\",\"#ccb974\",\"#64b5cd\",\"#4c72b0\",\"#55a868\",\n",
    "                    \"#c44e52\",\"#8172b2\",\"#ccb974\",\"#64b5cd\",\"#4c72b0\",\"#55a868\",\"#c44e52\",\"#8172b2\",\"#ccb974\",\"#64b5cd\",\n",
    "                    \"#4c72b0\",\"#55a868\",\"#c44e52\",\"#8172b2\",\"#ccb974\",\"#64b5cd\",\"#4c72b0\",\"#55a868\",\"#c44e52\",\"#8172b2\",\n",
    "                    \"#ccb974\",\"#64b5cd\",\"#4c72b0\",\"#55a868\",\"#c44e52\",\"#8172b2\",\"#ccb974\",\"#64b5cd\",\"#4c72b0\",\"#55a868\",\n",
    "                    \"#c44e52\",\"#8172b2\",\"#ccb974\",\"#64b5cd\",\"#4c72b0\",\"#55a868\",\"#c44e52\",\"#8172b2\",\"#ccb974\",\"#64b5cd\")\n",
    "\n",
    "ggplot(rides_df, aes(x=rides)) +\n",
    "  geom_histogram(fill=\"#4c72b0\", bins=100) +\n",
    "  scale_x_continuous(expand = c(0, 0)) +\n",
    "  scale_y_continuous(expand = c(0, 0), limits=c(0, 100000), label=comma) +\n",
    "  labs(title=\"CTA Ridership Distribution\") +\n",
    "   theme(plot.title = element_text(hjust=0.5, size=18))"
   ]
  },
  {
   "cell_type": "code",
   "execution_count": 6,
   "metadata": {},
   "outputs": [
    {
     "data": {},
     "metadata": {},
     "output_type": "display_data"
    },
    {
     "data": {
      "image/png": "[encoded data removed]",
      "text/plain": [
       "plot without title"
      ]
     },
     "metadata": {},
     "output_type": "display_data"
    }
   ],
   "source": [
    "ggplot(rides_df, aes(x=rides, fill=daytype)) +\n",
    "   geom_histogram(data=subset(rides_df, daytype == 'W'), bins=100) +\n",
    "   geom_histogram(data=subset(rides_df, daytype == 'U'), bins=100) +\n",
    "   geom_histogram(data=subset(rides_df, daytype == 'A'), bins=100) +\n",
    "   scale_x_continuous(expand = c(0, 0)) +\n",
    "   scale_y_continuous(expand = c(0, 0), limits=c(0, 70000), label=comma) +\n",
    "   scale_fill_manual(values = c(W = \"#4c72b0\", U = \"#55a868\", A = \"#c44e52\")) +\n",
    "   labs(title=\"CTA Ridership Distribution By Day Type\", fill=\"Day Type\") +\n",
    "   theme(plot.title = element_text(hjust=0.5, size=18))"
   ]
  },
  {
   "cell_type": "code",
   "execution_count": 17,
   "metadata": {},
   "outputs": [
    {
     "data": {},
     "metadata": {},
     "output_type": "display_data"
    },
    {
     "data": {
      "image/png": "[encoded data removed]",
      "text/plain": [
       "plot without title"
      ]
     },
     "metadata": {},
     "output_type": "display_data"
    }
   ],
   "source": [
    "ggplot(transform(rides_df, year = as.factor(format(rides_df$date, '%Y'))), aes(x=year, y=rides, fill=year)) + \n",
    "    geom_boxplot() + guides(fill=FALSE) +\n",
    "    scale_y_continuous(expand = c(0, 0), lim=c(0,38000), label=comma) +\n",
    "    labs(title=\"CTA Ridership Boxplot By Year\") +\n",
    "    theme(plot.title = element_text(hjust=0.5, size=18))"
   ]
  },
  {
   "cell_type": "markdown",
   "metadata": {},
   "source": [
    "## Aggregate Data"
   ]
  },
  {
   "cell_type": "code",
   "execution_count": 24,
   "metadata": {
    "scrolled": true
   },
   "outputs": [
    {
     "data": {
      "text/html": [
       "<table>\n",
       "<thead><tr><th></th><th scope=col>stationname</th><th scope=col>count</th><th scope=col>total</th><th scope=col>mean</th><th scope=col>median</th><th scope=col>min</th><th scope=col>max</th></tr></thead>\n",
       "<tbody>\n",
       "\t<tr><th scope=row>44</th><td>Clark/Lake        </td><td>6300              </td><td>87291814          </td><td>13855.843         </td><td>16026.0           </td><td> 601              </td><td>30295             </td></tr>\n",
       "\t<tr><th scope=row>90</th><td>Lake/State        </td><td>6301              </td><td>86022732          </td><td>13652.235         </td><td>13816.0           </td><td>   0              </td><td>35845             </td></tr>\n",
       "\t<tr><th scope=row>39</th><td>Chicago/State     </td><td>6299              </td><td>81619341          </td><td>12957.508         </td><td>13495.0           </td><td>   0              </td><td>26312             </td></tr>\n",
       "\t<tr><th scope=row>13</th><td>95th/Dan Ryan     </td><td>6274              </td><td>67108423          </td><td>10696.274         </td><td>11741.5           </td><td>   0              </td><td>18904             </td></tr>\n",
       "\t<tr><th scope=row>25</th><td>Belmont-North Main</td><td>6299              </td><td>65913539          </td><td>10464.127         </td><td>10500.0           </td><td>1238              </td><td>36323             </td></tr>\n",
       "\t<tr><th scope=row>61</th><td>Fullerton         </td><td>6300              </td><td>64663543          </td><td>10264.054         </td><td>10424.5           </td><td> 705              </td><td>18333             </td></tr>\n",
       "\t<tr><th scope=row>65</th><td>Grand/State       </td><td>6302              </td><td>59961752          </td><td> 9514.718         </td><td> 9462.0           </td><td>   0              </td><td>24726             </td></tr>\n",
       "\t<tr><th scope=row>115</th><td>O'Hare Airport    </td><td>6299              </td><td>57191517          </td><td> 9079.460         </td><td> 8932.0           </td><td>   0              </td><td>18646             </td></tr>\n",
       "\t<tr><th scope=row>79</th><td>Jackson/State     </td><td>6307              </td><td>56163674          </td><td> 8904.974         </td><td>10010.0           </td><td>   0              </td><td>23939             </td></tr>\n",
       "\t<tr><th scope=row>127</th><td>Roosevelt         </td><td>6311              </td><td>53345696          </td><td> 8452.812         </td><td> 8448.0           </td><td>1235              </td><td>22136             </td></tr>\n",
       "</tbody>\n",
       "</table>\n"
      ],
      "text/latex": [
       "\\begin{tabular}{r|lllllll}\n",
       "  & stationname & count & total & mean & median & min & max\\\\\n",
       "\\hline\n",
       "\t44 & Clark/Lake         & 6300               & 87291814           & 13855.843          & 16026.0            &  601               & 30295             \\\\\n",
       "\t90 & Lake/State         & 6301               & 86022732           & 13652.235          & 13816.0            &    0               & 35845             \\\\\n",
       "\t39 & Chicago/State      & 6299               & 81619341           & 12957.508          & 13495.0            &    0               & 26312             \\\\\n",
       "\t13 & 95th/Dan Ryan      & 6274               & 67108423           & 10696.274          & 11741.5            &    0               & 18904             \\\\\n",
       "\t25 & Belmont-North Main & 6299               & 65913539           & 10464.127          & 10500.0            & 1238               & 36323             \\\\\n",
       "\t61 & Fullerton          & 6300               & 64663543           & 10264.054          & 10424.5            &  705               & 18333             \\\\\n",
       "\t65 & Grand/State        & 6302               & 59961752           &  9514.718          &  9462.0            &    0               & 24726             \\\\\n",
       "\t115 & O'Hare Airport     & 6299               & 57191517           &  9079.460          &  8932.0            &    0               & 18646             \\\\\n",
       "\t79 & Jackson/State      & 6307               & 56163674           &  8904.974          & 10010.0            &    0               & 23939             \\\\\n",
       "\t127 & Roosevelt          & 6311               & 53345696           &  8452.812          &  8448.0            & 1235               & 22136             \\\\\n",
       "\\end{tabular}\n"
      ],
      "text/markdown": [
       "\n",
       "| <!--/--> | stationname | count | total | mean | median | min | max | \n",
       "|---|---|---|---|---|---|---|---|---|---|\n",
       "| 44 | Clark/Lake         | 6300               | 87291814           | 13855.843          | 16026.0            |  601               | 30295              | \n",
       "| 90 | Lake/State         | 6301               | 86022732           | 13652.235          | 13816.0            |    0               | 35845              | \n",
       "| 39 | Chicago/State      | 6299               | 81619341           | 12957.508          | 13495.0            |    0               | 26312              | \n",
       "| 13 | 95th/Dan Ryan      | 6274               | 67108423           | 10696.274          | 11741.5            |    0               | 18904              | \n",
       "| 25 | Belmont-North Main | 6299               | 65913539           | 10464.127          | 10500.0            | 1238               | 36323              | \n",
       "| 61 | Fullerton          | 6300               | 64663543           | 10264.054          | 10424.5            |  705               | 18333              | \n",
       "| 65 | Grand/State        | 6302               | 59961752           |  9514.718          |  9462.0            |    0               | 24726              | \n",
       "| 115 | O'Hare Airport     | 6299               | 57191517           |  9079.460          |  8932.0            |    0               | 18646              | \n",
       "| 79 | Jackson/State      | 6307               | 56163674           |  8904.974          | 10010.0            |    0               | 23939              | \n",
       "| 127 | Roosevelt          | 6311               | 53345696           |  8452.812          |  8448.0            | 1235               | 22136              | \n",
       "\n",
       "\n"
      ],
      "text/plain": [
       "    stationname        count total    mean      median  min  max  \n",
       "44  Clark/Lake         6300  87291814 13855.843 16026.0  601 30295\n",
       "90  Lake/State         6301  86022732 13652.235 13816.0    0 35845\n",
       "39  Chicago/State      6299  81619341 12957.508 13495.0    0 26312\n",
       "13  95th/Dan Ryan      6274  67108423 10696.274 11741.5    0 18904\n",
       "25  Belmont-North Main 6299  65913539 10464.127 10500.0 1238 36323\n",
       "61  Fullerton          6300  64663543 10264.054 10424.5  705 18333\n",
       "65  Grand/State        6302  59961752  9514.718  9462.0    0 24726\n",
       "115 O'Hare Airport     6299  57191517  9079.460  8932.0    0 18646\n",
       "79  Jackson/State      6307  56163674  8904.974 10010.0    0 23939\n",
       "127 Roosevelt          6311  53345696  8452.812  8448.0 1235 22136"
      ]
     },
     "metadata": {},
     "output_type": "display_data"
    }
   ],
   "source": [
    "agg_df <- do.call(data.frame, aggregate(rides ~ stationname, rides_df, \n",
    "                                        FUN = function(x) c(rides_count = length(x),\n",
    "                                                            rides_total = sum(x),\n",
    "                                                            rides_mean = mean(x),\n",
    "                                                            rides_median = median(x),\n",
    "                                                            rides_min = min(x),\n",
    "                                                            rides_max = max(x))))\n",
    "                                        \n",
    "# RENAME COLUMNS\n",
    "names(agg_df) <- gsub(\"rides.\", \"\", names(agg_df))             \n",
    "                                         \n",
    "# REORDER ROWS\n",
    "agg_df <- with(agg_df, agg_df[order(-total),])\n",
    "                                        \n",
    "head(agg_df, 10)"
   ]
  },
  {
   "cell_type": "markdown",
   "metadata": {},
   "source": [
    "## Correlation"
   ]
  },
  {
   "cell_type": "code",
   "execution_count": 25,
   "metadata": {},
   "outputs": [
    {
     "data": {
      "text/html": [
       "<table>\n",
       "<thead><tr><th></th><th scope=col>2001</th><th scope=col>2002</th><th scope=col>2003</th><th scope=col>2004</th><th scope=col>2005</th><th scope=col>2006</th><th scope=col>2007</th><th scope=col>2008</th><th scope=col>2009</th><th scope=col>2010</th><th scope=col>2011</th><th scope=col>2012</th><th scope=col>2013</th><th scope=col>2014</th><th scope=col>2015</th><th scope=col>2016</th><th scope=col>2017</th><th scope=col>2018</th></tr></thead>\n",
       "<tbody>\n",
       "\t<tr><th scope=row>2001</th><td>1.0000000</td><td>0.9974340</td><td>0.9953657</td><td>0.9911369</td><td>0.9770509</td><td>0.9859070</td><td>0.9758966</td><td>0.9695239</td><td>0.9751085</td><td>0.9730845</td><td>0.9685206</td><td>0.9628471</td><td>0.8938062</td><td>0.9528178</td><td>0.9477016</td><td>0.9400317</td><td>0.9360673</td><td>0.9181697</td></tr>\n",
       "\t<tr><th scope=row>2002</th><td>0.9974340</td><td>1.0000000</td><td>0.9975074</td><td>0.9922933</td><td>0.9783725</td><td>0.9871221</td><td>0.9738838</td><td>0.9670656</td><td>0.9763540</td><td>0.9761546</td><td>0.9721228</td><td>0.9663818</td><td>0.8997860</td><td>0.9566791</td><td>0.9490103</td><td>0.9414395</td><td>0.9369020</td><td>0.9199890</td></tr>\n",
       "\t<tr><th scope=row>2003</th><td>0.9953657</td><td>0.9975074</td><td>1.0000000</td><td>0.9962903</td><td>0.9842552</td><td>0.9910797</td><td>0.9742083</td><td>0.9664770</td><td>0.9753820</td><td>0.9753886</td><td>0.9723494</td><td>0.9681459</td><td>0.9029244</td><td>0.9581221</td><td>0.9505524</td><td>0.9434951</td><td>0.9394723</td><td>0.9207845</td></tr>\n",
       "\t<tr><th scope=row>2004</th><td>0.9911369</td><td>0.9922933</td><td>0.9962903</td><td>1.0000000</td><td>0.9950217</td><td>0.9942403</td><td>0.9724010</td><td>0.9657222</td><td>0.9695135</td><td>0.9691864</td><td>0.9673703</td><td>0.9642732</td><td>0.8988903</td><td>0.9510575</td><td>0.9419474</td><td>0.9345531</td><td>0.9315917</td><td>0.9122347</td></tr>\n",
       "\t<tr><th scope=row>2005</th><td>0.9770509</td><td>0.9783725</td><td>0.9842552</td><td>0.9950217</td><td>1.0000000</td><td>0.9907567</td><td>0.9627646</td><td>0.9573776</td><td>0.9572673</td><td>0.9562954</td><td>0.9558224</td><td>0.9536392</td><td>0.8892614</td><td>0.9362829</td><td>0.9255210</td><td>0.9180289</td><td>0.9158361</td><td>0.8952301</td></tr>\n",
       "\t<tr><th scope=row>2006</th><td>0.9859070</td><td>0.9871221</td><td>0.9910797</td><td>0.9942403</td><td>0.9907567</td><td>1.0000000</td><td>0.9818496</td><td>0.9744044</td><td>0.9812478</td><td>0.9806858</td><td>0.9795908</td><td>0.9775191</td><td>0.9191272</td><td>0.9648192</td><td>0.9551016</td><td>0.9471949</td><td>0.9440195</td><td>0.9219395</td></tr>\n",
       "\t<tr><th scope=row>2007</th><td>0.9758966</td><td>0.9738838</td><td>0.9742083</td><td>0.9724010</td><td>0.9627646</td><td>0.9818496</td><td>1.0000000</td><td>0.9793157</td><td>0.9812459</td><td>0.9807584</td><td>0.9766378</td><td>0.9730291</td><td>0.9112443</td><td>0.9597393</td><td>0.9537378</td><td>0.9437441</td><td>0.9390057</td><td>0.9132630</td></tr>\n",
       "\t<tr><th scope=row>2008</th><td>0.9695239</td><td>0.9670656</td><td>0.9664770</td><td>0.9657222</td><td>0.9573776</td><td>0.9744044</td><td>0.9793157</td><td>1.0000000</td><td>0.9874859</td><td>0.9811783</td><td>0.9772898</td><td>0.9734626</td><td>0.9102674</td><td>0.9582459</td><td>0.9509070</td><td>0.9410820</td><td>0.9370143</td><td>0.9139799</td></tr>\n",
       "\t<tr><th scope=row>2009</th><td>0.9751085</td><td>0.9763540</td><td>0.9753820</td><td>0.9695135</td><td>0.9572673</td><td>0.9812478</td><td>0.9812459</td><td>0.9874859</td><td>1.0000000</td><td>0.9970367</td><td>0.9936802</td><td>0.9898495</td><td>0.9345189</td><td>0.9788040</td><td>0.9691482</td><td>0.9609399</td><td>0.9553300</td><td>0.9327713</td></tr>\n",
       "\t<tr><th scope=row>2010</th><td>0.9730845</td><td>0.9761546</td><td>0.9753886</td><td>0.9691864</td><td>0.9562954</td><td>0.9806858</td><td>0.9807584</td><td>0.9811783</td><td>0.9970367</td><td>1.0000000</td><td>0.9983893</td><td>0.9954693</td><td>0.9435987</td><td>0.9864485</td><td>0.9758838</td><td>0.9680998</td><td>0.9631750</td><td>0.9420035</td></tr>\n",
       "\t<tr><th scope=row>2011</th><td>0.9685206</td><td>0.9721228</td><td>0.9723494</td><td>0.9673703</td><td>0.9558224</td><td>0.9795908</td><td>0.9766378</td><td>0.9772898</td><td>0.9936802</td><td>0.9983893</td><td>1.0000000</td><td>0.9984195</td><td>0.9530732</td><td>0.9910598</td><td>0.9801382</td><td>0.9733251</td><td>0.9691722</td><td>0.9489083</td></tr>\n",
       "\t<tr><th scope=row>2012</th><td>0.9628471</td><td>0.9663818</td><td>0.9681459</td><td>0.9642732</td><td>0.9536392</td><td>0.9775191</td><td>0.9730291</td><td>0.9734626</td><td>0.9898495</td><td>0.9954693</td><td>0.9984195</td><td>1.0000000</td><td>0.9594675</td><td>0.9930600</td><td>0.9820492</td><td>0.9757620</td><td>0.9724067</td><td>0.9522250</td></tr>\n",
       "\t<tr><th scope=row>2013</th><td>0.8938062</td><td>0.8997860</td><td>0.9029244</td><td>0.8988903</td><td>0.8892614</td><td>0.9191272</td><td>0.9112443</td><td>0.9102674</td><td>0.9345189</td><td>0.9435987</td><td>0.9530732</td><td>0.9594675</td><td>1.0000000</td><td>0.9657127</td><td>0.9551222</td><td>0.9524862</td><td>0.9529151</td><td>0.9366028</td></tr>\n",
       "\t<tr><th scope=row>2014</th><td>0.9528178</td><td>0.9566791</td><td>0.9581221</td><td>0.9510575</td><td>0.9362829</td><td>0.9648192</td><td>0.9597393</td><td>0.9582459</td><td>0.9788040</td><td>0.9864485</td><td>0.9910598</td><td>0.9930600</td><td>0.9657127</td><td>1.0000000</td><td>0.9873653</td><td>0.9821501</td><td>0.9805756</td><td>0.9624335</td></tr>\n",
       "\t<tr><th scope=row>2015</th><td>0.9477016</td><td>0.9490103</td><td>0.9505524</td><td>0.9419474</td><td>0.9255210</td><td>0.9551016</td><td>0.9537378</td><td>0.9509070</td><td>0.9691482</td><td>0.9758838</td><td>0.9801382</td><td>0.9820492</td><td>0.9551222</td><td>0.9873653</td><td>1.0000000</td><td>0.9982720</td><td>0.9941514</td><td>0.9672880</td></tr>\n",
       "\t<tr><th scope=row>2016</th><td>0.9400317</td><td>0.9414395</td><td>0.9434951</td><td>0.9345531</td><td>0.9180289</td><td>0.9471949</td><td>0.9437441</td><td>0.9410820</td><td>0.9609399</td><td>0.9680998</td><td>0.9733251</td><td>0.9757620</td><td>0.9524862</td><td>0.9821501</td><td>0.9982720</td><td>1.0000000</td><td>0.9963096</td><td>0.9687657</td></tr>\n",
       "\t<tr><th scope=row>2017</th><td>0.9360673</td><td>0.9369020</td><td>0.9394723</td><td>0.9315917</td><td>0.9158361</td><td>0.9440195</td><td>0.9390057</td><td>0.9370143</td><td>0.9553300</td><td>0.9631750</td><td>0.9691722</td><td>0.9724067</td><td>0.9529151</td><td>0.9805756</td><td>0.9941514</td><td>0.9963096</td><td>1.0000000</td><td>0.9840382</td></tr>\n",
       "\t<tr><th scope=row>2018</th><td>0.9181697</td><td>0.9199890</td><td>0.9207845</td><td>0.9122347</td><td>0.8952301</td><td>0.9219395</td><td>0.9132630</td><td>0.9139799</td><td>0.9327713</td><td>0.9420035</td><td>0.9489083</td><td>0.9522250</td><td>0.9366028</td><td>0.9624335</td><td>0.9672880</td><td>0.9687657</td><td>0.9840382</td><td>1.0000000</td></tr>\n",
       "</tbody>\n",
       "</table>\n"
      ],
      "text/latex": [
       "\\begin{tabular}{r|llllllllllllllllll}\n",
       "  & 2001 & 2002 & 2003 & 2004 & 2005 & 2006 & 2007 & 2008 & 2009 & 2010 & 2011 & 2012 & 2013 & 2014 & 2015 & 2016 & 2017 & 2018\\\\\n",
       "\\hline\n",
       "\t2001 & 1.0000000 & 0.9974340 & 0.9953657 & 0.9911369 & 0.9770509 & 0.9859070 & 0.9758966 & 0.9695239 & 0.9751085 & 0.9730845 & 0.9685206 & 0.9628471 & 0.8938062 & 0.9528178 & 0.9477016 & 0.9400317 & 0.9360673 & 0.9181697\\\\\n",
       "\t2002 & 0.9974340 & 1.0000000 & 0.9975074 & 0.9922933 & 0.9783725 & 0.9871221 & 0.9738838 & 0.9670656 & 0.9763540 & 0.9761546 & 0.9721228 & 0.9663818 & 0.8997860 & 0.9566791 & 0.9490103 & 0.9414395 & 0.9369020 & 0.9199890\\\\\n",
       "\t2003 & 0.9953657 & 0.9975074 & 1.0000000 & 0.9962903 & 0.9842552 & 0.9910797 & 0.9742083 & 0.9664770 & 0.9753820 & 0.9753886 & 0.9723494 & 0.9681459 & 0.9029244 & 0.9581221 & 0.9505524 & 0.9434951 & 0.9394723 & 0.9207845\\\\\n",
       "\t2004 & 0.9911369 & 0.9922933 & 0.9962903 & 1.0000000 & 0.9950217 & 0.9942403 & 0.9724010 & 0.9657222 & 0.9695135 & 0.9691864 & 0.9673703 & 0.9642732 & 0.8988903 & 0.9510575 & 0.9419474 & 0.9345531 & 0.9315917 & 0.9122347\\\\\n",
       "\t2005 & 0.9770509 & 0.9783725 & 0.9842552 & 0.9950217 & 1.0000000 & 0.9907567 & 0.9627646 & 0.9573776 & 0.9572673 & 0.9562954 & 0.9558224 & 0.9536392 & 0.8892614 & 0.9362829 & 0.9255210 & 0.9180289 & 0.9158361 & 0.8952301\\\\\n",
       "\t2006 & 0.9859070 & 0.9871221 & 0.9910797 & 0.9942403 & 0.9907567 & 1.0000000 & 0.9818496 & 0.9744044 & 0.9812478 & 0.9806858 & 0.9795908 & 0.9775191 & 0.9191272 & 0.9648192 & 0.9551016 & 0.9471949 & 0.9440195 & 0.9219395\\\\\n",
       "\t2007 & 0.9758966 & 0.9738838 & 0.9742083 & 0.9724010 & 0.9627646 & 0.9818496 & 1.0000000 & 0.9793157 & 0.9812459 & 0.9807584 & 0.9766378 & 0.9730291 & 0.9112443 & 0.9597393 & 0.9537378 & 0.9437441 & 0.9390057 & 0.9132630\\\\\n",
       "\t2008 & 0.9695239 & 0.9670656 & 0.9664770 & 0.9657222 & 0.9573776 & 0.9744044 & 0.9793157 & 1.0000000 & 0.9874859 & 0.9811783 & 0.9772898 & 0.9734626 & 0.9102674 & 0.9582459 & 0.9509070 & 0.9410820 & 0.9370143 & 0.9139799\\\\\n",
       "\t2009 & 0.9751085 & 0.9763540 & 0.9753820 & 0.9695135 & 0.9572673 & 0.9812478 & 0.9812459 & 0.9874859 & 1.0000000 & 0.9970367 & 0.9936802 & 0.9898495 & 0.9345189 & 0.9788040 & 0.9691482 & 0.9609399 & 0.9553300 & 0.9327713\\\\\n",
       "\t2010 & 0.9730845 & 0.9761546 & 0.9753886 & 0.9691864 & 0.9562954 & 0.9806858 & 0.9807584 & 0.9811783 & 0.9970367 & 1.0000000 & 0.9983893 & 0.9954693 & 0.9435987 & 0.9864485 & 0.9758838 & 0.9680998 & 0.9631750 & 0.9420035\\\\\n",
       "\t2011 & 0.9685206 & 0.9721228 & 0.9723494 & 0.9673703 & 0.9558224 & 0.9795908 & 0.9766378 & 0.9772898 & 0.9936802 & 0.9983893 & 1.0000000 & 0.9984195 & 0.9530732 & 0.9910598 & 0.9801382 & 0.9733251 & 0.9691722 & 0.9489083\\\\\n",
       "\t2012 & 0.9628471 & 0.9663818 & 0.9681459 & 0.9642732 & 0.9536392 & 0.9775191 & 0.9730291 & 0.9734626 & 0.9898495 & 0.9954693 & 0.9984195 & 1.0000000 & 0.9594675 & 0.9930600 & 0.9820492 & 0.9757620 & 0.9724067 & 0.9522250\\\\\n",
       "\t2013 & 0.8938062 & 0.8997860 & 0.9029244 & 0.8988903 & 0.8892614 & 0.9191272 & 0.9112443 & 0.9102674 & 0.9345189 & 0.9435987 & 0.9530732 & 0.9594675 & 1.0000000 & 0.9657127 & 0.9551222 & 0.9524862 & 0.9529151 & 0.9366028\\\\\n",
       "\t2014 & 0.9528178 & 0.9566791 & 0.9581221 & 0.9510575 & 0.9362829 & 0.9648192 & 0.9597393 & 0.9582459 & 0.9788040 & 0.9864485 & 0.9910598 & 0.9930600 & 0.9657127 & 1.0000000 & 0.9873653 & 0.9821501 & 0.9805756 & 0.9624335\\\\\n",
       "\t2015 & 0.9477016 & 0.9490103 & 0.9505524 & 0.9419474 & 0.9255210 & 0.9551016 & 0.9537378 & 0.9509070 & 0.9691482 & 0.9758838 & 0.9801382 & 0.9820492 & 0.9551222 & 0.9873653 & 1.0000000 & 0.9982720 & 0.9941514 & 0.9672880\\\\\n",
       "\t2016 & 0.9400317 & 0.9414395 & 0.9434951 & 0.9345531 & 0.9180289 & 0.9471949 & 0.9437441 & 0.9410820 & 0.9609399 & 0.9680998 & 0.9733251 & 0.9757620 & 0.9524862 & 0.9821501 & 0.9982720 & 1.0000000 & 0.9963096 & 0.9687657\\\\\n",
       "\t2017 & 0.9360673 & 0.9369020 & 0.9394723 & 0.9315917 & 0.9158361 & 0.9440195 & 0.9390057 & 0.9370143 & 0.9553300 & 0.9631750 & 0.9691722 & 0.9724067 & 0.9529151 & 0.9805756 & 0.9941514 & 0.9963096 & 1.0000000 & 0.9840382\\\\\n",
       "\t2018 & 0.9181697 & 0.9199890 & 0.9207845 & 0.9122347 & 0.8952301 & 0.9219395 & 0.9132630 & 0.9139799 & 0.9327713 & 0.9420035 & 0.9489083 & 0.9522250 & 0.9366028 & 0.9624335 & 0.9672880 & 0.9687657 & 0.9840382 & 1.0000000\\\\\n",
       "\\end{tabular}\n"
      ],
      "text/markdown": [
       "\n",
       "| <!--/--> | 2001 | 2002 | 2003 | 2004 | 2005 | 2006 | 2007 | 2008 | 2009 | 2010 | 2011 | 2012 | 2013 | 2014 | 2015 | 2016 | 2017 | 2018 | \n",
       "|---|---|---|---|---|---|---|---|---|---|---|---|---|---|---|---|---|---|\n",
       "| 2001 | 1.0000000 | 0.9974340 | 0.9953657 | 0.9911369 | 0.9770509 | 0.9859070 | 0.9758966 | 0.9695239 | 0.9751085 | 0.9730845 | 0.9685206 | 0.9628471 | 0.8938062 | 0.9528178 | 0.9477016 | 0.9400317 | 0.9360673 | 0.9181697 | \n",
       "| 2002 | 0.9974340 | 1.0000000 | 0.9975074 | 0.9922933 | 0.9783725 | 0.9871221 | 0.9738838 | 0.9670656 | 0.9763540 | 0.9761546 | 0.9721228 | 0.9663818 | 0.8997860 | 0.9566791 | 0.9490103 | 0.9414395 | 0.9369020 | 0.9199890 | \n",
       "| 2003 | 0.9953657 | 0.9975074 | 1.0000000 | 0.9962903 | 0.9842552 | 0.9910797 | 0.9742083 | 0.9664770 | 0.9753820 | 0.9753886 | 0.9723494 | 0.9681459 | 0.9029244 | 0.9581221 | 0.9505524 | 0.9434951 | 0.9394723 | 0.9207845 | \n",
       "| 2004 | 0.9911369 | 0.9922933 | 0.9962903 | 1.0000000 | 0.9950217 | 0.9942403 | 0.9724010 | 0.9657222 | 0.9695135 | 0.9691864 | 0.9673703 | 0.9642732 | 0.8988903 | 0.9510575 | 0.9419474 | 0.9345531 | 0.9315917 | 0.9122347 | \n",
       "| 2005 | 0.9770509 | 0.9783725 | 0.9842552 | 0.9950217 | 1.0000000 | 0.9907567 | 0.9627646 | 0.9573776 | 0.9572673 | 0.9562954 | 0.9558224 | 0.9536392 | 0.8892614 | 0.9362829 | 0.9255210 | 0.9180289 | 0.9158361 | 0.8952301 | \n",
       "| 2006 | 0.9859070 | 0.9871221 | 0.9910797 | 0.9942403 | 0.9907567 | 1.0000000 | 0.9818496 | 0.9744044 | 0.9812478 | 0.9806858 | 0.9795908 | 0.9775191 | 0.9191272 | 0.9648192 | 0.9551016 | 0.9471949 | 0.9440195 | 0.9219395 | \n",
       "| 2007 | 0.9758966 | 0.9738838 | 0.9742083 | 0.9724010 | 0.9627646 | 0.9818496 | 1.0000000 | 0.9793157 | 0.9812459 | 0.9807584 | 0.9766378 | 0.9730291 | 0.9112443 | 0.9597393 | 0.9537378 | 0.9437441 | 0.9390057 | 0.9132630 | \n",
       "| 2008 | 0.9695239 | 0.9670656 | 0.9664770 | 0.9657222 | 0.9573776 | 0.9744044 | 0.9793157 | 1.0000000 | 0.9874859 | 0.9811783 | 0.9772898 | 0.9734626 | 0.9102674 | 0.9582459 | 0.9509070 | 0.9410820 | 0.9370143 | 0.9139799 | \n",
       "| 2009 | 0.9751085 | 0.9763540 | 0.9753820 | 0.9695135 | 0.9572673 | 0.9812478 | 0.9812459 | 0.9874859 | 1.0000000 | 0.9970367 | 0.9936802 | 0.9898495 | 0.9345189 | 0.9788040 | 0.9691482 | 0.9609399 | 0.9553300 | 0.9327713 | \n",
       "| 2010 | 0.9730845 | 0.9761546 | 0.9753886 | 0.9691864 | 0.9562954 | 0.9806858 | 0.9807584 | 0.9811783 | 0.9970367 | 1.0000000 | 0.9983893 | 0.9954693 | 0.9435987 | 0.9864485 | 0.9758838 | 0.9680998 | 0.9631750 | 0.9420035 | \n",
       "| 2011 | 0.9685206 | 0.9721228 | 0.9723494 | 0.9673703 | 0.9558224 | 0.9795908 | 0.9766378 | 0.9772898 | 0.9936802 | 0.9983893 | 1.0000000 | 0.9984195 | 0.9530732 | 0.9910598 | 0.9801382 | 0.9733251 | 0.9691722 | 0.9489083 | \n",
       "| 2012 | 0.9628471 | 0.9663818 | 0.9681459 | 0.9642732 | 0.9536392 | 0.9775191 | 0.9730291 | 0.9734626 | 0.9898495 | 0.9954693 | 0.9984195 | 1.0000000 | 0.9594675 | 0.9930600 | 0.9820492 | 0.9757620 | 0.9724067 | 0.9522250 | \n",
       "| 2013 | 0.8938062 | 0.8997860 | 0.9029244 | 0.8988903 | 0.8892614 | 0.9191272 | 0.9112443 | 0.9102674 | 0.9345189 | 0.9435987 | 0.9530732 | 0.9594675 | 1.0000000 | 0.9657127 | 0.9551222 | 0.9524862 | 0.9529151 | 0.9366028 | \n",
       "| 2014 | 0.9528178 | 0.9566791 | 0.9581221 | 0.9510575 | 0.9362829 | 0.9648192 | 0.9597393 | 0.9582459 | 0.9788040 | 0.9864485 | 0.9910598 | 0.9930600 | 0.9657127 | 1.0000000 | 0.9873653 | 0.9821501 | 0.9805756 | 0.9624335 | \n",
       "| 2015 | 0.9477016 | 0.9490103 | 0.9505524 | 0.9419474 | 0.9255210 | 0.9551016 | 0.9537378 | 0.9509070 | 0.9691482 | 0.9758838 | 0.9801382 | 0.9820492 | 0.9551222 | 0.9873653 | 1.0000000 | 0.9982720 | 0.9941514 | 0.9672880 | \n",
       "| 2016 | 0.9400317 | 0.9414395 | 0.9434951 | 0.9345531 | 0.9180289 | 0.9471949 | 0.9437441 | 0.9410820 | 0.9609399 | 0.9680998 | 0.9733251 | 0.9757620 | 0.9524862 | 0.9821501 | 0.9982720 | 1.0000000 | 0.9963096 | 0.9687657 | \n",
       "| 2017 | 0.9360673 | 0.9369020 | 0.9394723 | 0.9315917 | 0.9158361 | 0.9440195 | 0.9390057 | 0.9370143 | 0.9553300 | 0.9631750 | 0.9691722 | 0.9724067 | 0.9529151 | 0.9805756 | 0.9941514 | 0.9963096 | 1.0000000 | 0.9840382 | \n",
       "| 2018 | 0.9181697 | 0.9199890 | 0.9207845 | 0.9122347 | 0.8952301 | 0.9219395 | 0.9132630 | 0.9139799 | 0.9327713 | 0.9420035 | 0.9489083 | 0.9522250 | 0.9366028 | 0.9624335 | 0.9672880 | 0.9687657 | 0.9840382 | 1.0000000 | \n",
       "\n",
       "\n"
      ],
      "text/plain": [
       "     2001      2002      2003      2004      2005      2006      2007     \n",
       "2001 1.0000000 0.9974340 0.9953657 0.9911369 0.9770509 0.9859070 0.9758966\n",
       "2002 0.9974340 1.0000000 0.9975074 0.9922933 0.9783725 0.9871221 0.9738838\n",
       "2003 0.9953657 0.9975074 1.0000000 0.9962903 0.9842552 0.9910797 0.9742083\n",
       "2004 0.9911369 0.9922933 0.9962903 1.0000000 0.9950217 0.9942403 0.9724010\n",
       "2005 0.9770509 0.9783725 0.9842552 0.9950217 1.0000000 0.9907567 0.9627646\n",
       "2006 0.9859070 0.9871221 0.9910797 0.9942403 0.9907567 1.0000000 0.9818496\n",
       "2007 0.9758966 0.9738838 0.9742083 0.9724010 0.9627646 0.9818496 1.0000000\n",
       "2008 0.9695239 0.9670656 0.9664770 0.9657222 0.9573776 0.9744044 0.9793157\n",
       "2009 0.9751085 0.9763540 0.9753820 0.9695135 0.9572673 0.9812478 0.9812459\n",
       "2010 0.9730845 0.9761546 0.9753886 0.9691864 0.9562954 0.9806858 0.9807584\n",
       "2011 0.9685206 0.9721228 0.9723494 0.9673703 0.9558224 0.9795908 0.9766378\n",
       "2012 0.9628471 0.9663818 0.9681459 0.9642732 0.9536392 0.9775191 0.9730291\n",
       "2013 0.8938062 0.8997860 0.9029244 0.8988903 0.8892614 0.9191272 0.9112443\n",
       "2014 0.9528178 0.9566791 0.9581221 0.9510575 0.9362829 0.9648192 0.9597393\n",
       "2015 0.9477016 0.9490103 0.9505524 0.9419474 0.9255210 0.9551016 0.9537378\n",
       "2016 0.9400317 0.9414395 0.9434951 0.9345531 0.9180289 0.9471949 0.9437441\n",
       "2017 0.9360673 0.9369020 0.9394723 0.9315917 0.9158361 0.9440195 0.9390057\n",
       "2018 0.9181697 0.9199890 0.9207845 0.9122347 0.8952301 0.9219395 0.9132630\n",
       "     2008      2009      2010      2011      2012      2013      2014     \n",
       "2001 0.9695239 0.9751085 0.9730845 0.9685206 0.9628471 0.8938062 0.9528178\n",
       "2002 0.9670656 0.9763540 0.9761546 0.9721228 0.9663818 0.8997860 0.9566791\n",
       "2003 0.9664770 0.9753820 0.9753886 0.9723494 0.9681459 0.9029244 0.9581221\n",
       "2004 0.9657222 0.9695135 0.9691864 0.9673703 0.9642732 0.8988903 0.9510575\n",
       "2005 0.9573776 0.9572673 0.9562954 0.9558224 0.9536392 0.8892614 0.9362829\n",
       "2006 0.9744044 0.9812478 0.9806858 0.9795908 0.9775191 0.9191272 0.9648192\n",
       "2007 0.9793157 0.9812459 0.9807584 0.9766378 0.9730291 0.9112443 0.9597393\n",
       "2008 1.0000000 0.9874859 0.9811783 0.9772898 0.9734626 0.9102674 0.9582459\n",
       "2009 0.9874859 1.0000000 0.9970367 0.9936802 0.9898495 0.9345189 0.9788040\n",
       "2010 0.9811783 0.9970367 1.0000000 0.9983893 0.9954693 0.9435987 0.9864485\n",
       "2011 0.9772898 0.9936802 0.9983893 1.0000000 0.9984195 0.9530732 0.9910598\n",
       "2012 0.9734626 0.9898495 0.9954693 0.9984195 1.0000000 0.9594675 0.9930600\n",
       "2013 0.9102674 0.9345189 0.9435987 0.9530732 0.9594675 1.0000000 0.9657127\n",
       "2014 0.9582459 0.9788040 0.9864485 0.9910598 0.9930600 0.9657127 1.0000000\n",
       "2015 0.9509070 0.9691482 0.9758838 0.9801382 0.9820492 0.9551222 0.9873653\n",
       "2016 0.9410820 0.9609399 0.9680998 0.9733251 0.9757620 0.9524862 0.9821501\n",
       "2017 0.9370143 0.9553300 0.9631750 0.9691722 0.9724067 0.9529151 0.9805756\n",
       "2018 0.9139799 0.9327713 0.9420035 0.9489083 0.9522250 0.9366028 0.9624335\n",
       "     2015      2016      2017      2018     \n",
       "2001 0.9477016 0.9400317 0.9360673 0.9181697\n",
       "2002 0.9490103 0.9414395 0.9369020 0.9199890\n",
       "2003 0.9505524 0.9434951 0.9394723 0.9207845\n",
       "2004 0.9419474 0.9345531 0.9315917 0.9122347\n",
       "2005 0.9255210 0.9180289 0.9158361 0.8952301\n",
       "2006 0.9551016 0.9471949 0.9440195 0.9219395\n",
       "2007 0.9537378 0.9437441 0.9390057 0.9132630\n",
       "2008 0.9509070 0.9410820 0.9370143 0.9139799\n",
       "2009 0.9691482 0.9609399 0.9553300 0.9327713\n",
       "2010 0.9758838 0.9680998 0.9631750 0.9420035\n",
       "2011 0.9801382 0.9733251 0.9691722 0.9489083\n",
       "2012 0.9820492 0.9757620 0.9724067 0.9522250\n",
       "2013 0.9551222 0.9524862 0.9529151 0.9366028\n",
       "2014 0.9873653 0.9821501 0.9805756 0.9624335\n",
       "2015 1.0000000 0.9982720 0.9941514 0.9672880\n",
       "2016 0.9982720 1.0000000 0.9963096 0.9687657\n",
       "2017 0.9941514 0.9963096 1.0000000 0.9840382\n",
       "2018 0.9672880 0.9687657 0.9840382 1.0000000"
      ]
     },
     "metadata": {},
     "output_type": "display_data"
    }
   ],
   "source": [
    "aggdf <- aggregate(rides ~ stationname + year, transform(rides_df, year = format(rides_df$date, \"%Y\")), sum)\n",
    "\n",
    "rdf <- reshape(aggdf, idvar=\"stationname\", v.names = \"rides\", timevar = \"year\", direction=\"wide\")\n",
    "names(rdf) <- gsub(\"rides.\", \"\", names(rdf))\n",
    "\n",
    "cor(rdf[-1], use = \"complete.obs\", method=\"pearson\")"
   ]
  },
  {
   "cell_type": "markdown",
   "metadata": {},
   "source": [
    "## Regression\n",
    "\n",
    "### City of Chicago Population\n",
    "#### Source: US Census: American Community Survey (ACS) 2005-2016]"
   ]
  },
  {
   "cell_type": "code",
   "execution_count": 20,
   "metadata": {},
   "outputs": [],
   "source": [
    "pop_df = data.frame(year = c(2005:2016),\n",
    "                    population= c(2701926, 2749283, 2737996, 2850502, 2741455, 2703466,\n",
    "                                  2700741, 2702471, 2706101, 2712608, 2717534, 2714017),\n",
    "                    housing_units = c(1170187, 1175547, 1173754, 1182326, 1237642, 1197741, \n",
    "                                      1198408, 1197248, 1192790, 1190998, 1192544, 1194098),\n",
    "                    square_miles = c(227.1, 227.1, 227.1, 227.1, 227.1, 227.63, 227.63, \n",
    "                                     227.63, 227.63, 227.63, 227.63, 227.63)\n",
    "                   )\n",
    "\n",
    "pop_df$pop_density <- pop_df$population / pop_df$square_miles\n",
    "reg_df <- merge(transform(rides_df, year = as.integer(format(rides_df$date, '%Y'))), pop_df, by='year')"
   ]
  },
  {
   "cell_type": "code",
   "execution_count": 21,
   "metadata": {},
   "outputs": [
    {
     "data": {
      "text/plain": [
       "\n",
       "Call:\n",
       "lm(formula = rides ~ population, data = reg_df)\n",
       "\n",
       "Residuals:\n",
       "   Min     1Q Median     3Q    Max \n",
       " -3491  -2234  -1006   1054  32879 \n",
       "\n",
       "Coefficients:\n",
       "              Estimate Std. Error t value Pr(>|t|)    \n",
       "(Intercept)  1.109e+04  2.789e+02   39.77   <2e-16 ***\n",
       "population  -2.815e-03  1.022e-04  -27.53   <2e-16 ***\n",
       "---\n",
       "Signif. codes:  0 ‘***’ 0.001 ‘**’ 0.01 ‘*’ 0.05 ‘.’ 0.1 ‘ ’ 1\n",
       "\n",
       "Residual standard error: 3249 on 624014 degrees of freedom\n",
       "Multiple R-squared:  0.001213,\tAdjusted R-squared:  0.001212 \n",
       "F-statistic:   758 on 1 and 624014 DF,  p-value: < 2.2e-16\n"
      ]
     },
     "metadata": {},
     "output_type": "display_data"
    },
    {
     "data": {
      "text/html": [
       "<table>\n",
       "<thead><tr><th></th><th scope=col>Df</th><th scope=col>Sum Sq</th><th scope=col>Mean Sq</th><th scope=col>F value</th><th scope=col>Pr(&gt;F)</th></tr></thead>\n",
       "<tbody>\n",
       "\t<tr><th scope=row>population</th><td>     1      </td><td>8.002078e+09</td><td>8002078377  </td><td>757.9883    </td><td> 0          </td></tr>\n",
       "\t<tr><th scope=row>Residuals</th><td>624014      </td><td>6.587713e+12</td><td>  10556995  </td><td>      NA    </td><td>NA          </td></tr>\n",
       "</tbody>\n",
       "</table>\n"
      ],
      "text/latex": [
       "\\begin{tabular}{r|lllll}\n",
       "  & Df & Sum Sq & Mean Sq & F value & Pr(>F)\\\\\n",
       "\\hline\n",
       "\tpopulation &      1       & 8.002078e+09 & 8002078377   & 757.9883     &  0          \\\\\n",
       "\tResiduals & 624014       & 6.587713e+12 &   10556995   &       NA     & NA          \\\\\n",
       "\\end{tabular}\n"
      ],
      "text/markdown": [
       "\n",
       "| <!--/--> | Df | Sum Sq | Mean Sq | F value | Pr(>F) | \n",
       "|---|---|\n",
       "| population |      1       | 8.002078e+09 | 8002078377   | 757.9883     |  0           | \n",
       "| Residuals | 624014       | 6.587713e+12 |   10556995   |       NA     | NA           | \n",
       "\n",
       "\n"
      ],
      "text/plain": [
       "           Df     Sum Sq       Mean Sq    F value  Pr(>F)\n",
       "population      1 8.002078e+09 8002078377 757.9883  0    \n",
       "Residuals  624014 6.587713e+12   10556995       NA NA    "
      ]
     },
     "metadata": {},
     "output_type": "display_data"
    },
    {
     "data": {
      "text/html": [
       "<table>\n",
       "<thead><tr><th></th><th scope=col>Value</th></tr></thead>\n",
       "<tbody>\n",
       "\t<tr><th scope=row>r.squared</th><td>0.001213224</td></tr>\n",
       "\t<tr><th scope=row>adj.r.squared</th><td>0.001211623</td></tr>\n",
       "</tbody>\n",
       "</table>\n"
      ],
      "text/latex": [
       "\\begin{tabular}{r|l}\n",
       "  & Value\\\\\n",
       "\\hline\n",
       "\tr.squared & 0.001213224\\\\\n",
       "\tadj.r.squared & 0.001211623\\\\\n",
       "\\end{tabular}\n"
      ],
      "text/markdown": [
       "\n",
       "| <!--/--> | Value | \n",
       "|---|---|\n",
       "| r.squared | 0.001213224 | \n",
       "| adj.r.squared | 0.001211623 | \n",
       "\n",
       "\n"
      ],
      "text/plain": [
       "              Value      \n",
       "r.squared     0.001213224\n",
       "adj.r.squared 0.001211623"
      ]
     },
     "metadata": {},
     "output_type": "display_data"
    },
    {
     "data": {
      "text/html": [
       "<table>\n",
       "<thead><tr><th></th><th scope=col>Estimate</th><th scope=col>Std. Error</th><th scope=col>t value</th><th scope=col>Pr(&gt;|t|)</th></tr></thead>\n",
       "<tbody>\n",
       "\t<tr><th scope=row>(Intercept)</th><td>11092.3241</td><td>278.9327  </td><td> 39.7670  </td><td>0         </td></tr>\n",
       "\t<tr><th scope=row>population</th><td>   -0.0028</td><td>  0.0001  </td><td>-27.5316  </td><td>0         </td></tr>\n",
       "</tbody>\n",
       "</table>\n"
      ],
      "text/latex": [
       "\\begin{tabular}{r|llll}\n",
       "  & Estimate & Std. Error & t value & Pr(>\\textbar{}t\\textbar{})\\\\\n",
       "\\hline\n",
       "\t(Intercept) & 11092.3241 & 278.9327   &  39.7670   & 0         \\\\\n",
       "\tpopulation &    -0.0028 &   0.0001   & -27.5316   & 0         \\\\\n",
       "\\end{tabular}\n"
      ],
      "text/markdown": [
       "\n",
       "| <!--/--> | Estimate | Std. Error | t value | Pr(>|t|) | \n",
       "|---|---|\n",
       "| (Intercept) | 11092.3241 | 278.9327   |  39.7670   | 0          | \n",
       "| population |    -0.0028 |   0.0001   | -27.5316   | 0          | \n",
       "\n",
       "\n"
      ],
      "text/plain": [
       "            Estimate   Std. Error t value  Pr(>|t|)\n",
       "(Intercept) 11092.3241 278.9327    39.7670 0       \n",
       "population     -0.0028   0.0001   -27.5316 0       "
      ]
     },
     "metadata": {},
     "output_type": "display_data"
    }
   ],
   "source": [
    "# SIMPLE REGRESSION\n",
    "model <- lm(rides ~ population, reg_df)\n",
    "\n",
    "summary(model)\n",
    "round(anova(model), 4)\n",
    "data.frame(Value=c(summary(model)$r.squared, summary(model)$adj.r.squared),\n",
    "           row.names = c(\"r.squared\", \"adj.r.squared\"))\n",
    "\n",
    "round(summary(model)$coefficients, 4)"
   ]
  },
  {
   "cell_type": "code",
   "execution_count": 22,
   "metadata": {
    "scrolled": true
   },
   "outputs": [
    {
     "data": {
      "text/html": [
       "<table>\n",
       "<thead><tr><th></th><th scope=col>Df</th><th scope=col>Sum Sq</th><th scope=col>Mean Sq</th><th scope=col>F value</th><th scope=col>Pr(&gt;F)</th></tr></thead>\n",
       "<tbody>\n",
       "\t<tr><th scope=row>pop_density</th><td>     1      </td><td>9.988609e+09</td><td>9988609398  </td><td>946.9103    </td><td> 0          </td></tr>\n",
       "\t<tr><th scope=row>housing_units</th><td>     1      </td><td>3.241836e+09</td><td>3241835618  </td><td>307.3228    </td><td> 0          </td></tr>\n",
       "\t<tr><th scope=row>Residuals</th><td>624013      </td><td>6.582484e+12</td><td>  10548634  </td><td>      NA    </td><td>NA          </td></tr>\n",
       "</tbody>\n",
       "</table>\n"
      ],
      "text/latex": [
       "\\begin{tabular}{r|lllll}\n",
       "  & Df & Sum Sq & Mean Sq & F value & Pr(>F)\\\\\n",
       "\\hline\n",
       "\tpop\\_density &      1       & 9.988609e+09 & 9988609398   & 946.9103     &  0          \\\\\n",
       "\thousing\\_units &      1       & 3.241836e+09 & 3241835618   & 307.3228     &  0          \\\\\n",
       "\tResiduals & 624013       & 6.582484e+12 &   10548634   &       NA     & NA          \\\\\n",
       "\\end{tabular}\n"
      ],
      "text/markdown": [
       "\n",
       "| <!--/--> | Df | Sum Sq | Mean Sq | F value | Pr(>F) | \n",
       "|---|---|---|\n",
       "| pop_density |      1       | 9.988609e+09 | 9988609398   | 946.9103     |  0           | \n",
       "| housing_units |      1       | 3.241836e+09 | 3241835618   | 307.3228     |  0           | \n",
       "| Residuals | 624013       | 6.582484e+12 |   10548634   |       NA     | NA           | \n",
       "\n",
       "\n"
      ],
      "text/plain": [
       "              Df     Sum Sq       Mean Sq    F value  Pr(>F)\n",
       "pop_density        1 9.988609e+09 9988609398 946.9103  0    \n",
       "housing_units      1 3.241836e+09 3241835618 307.3228  0    \n",
       "Residuals     624013 6.582484e+12   10548634       NA NA    "
      ]
     },
     "metadata": {},
     "output_type": "display_data"
    },
    {
     "data": {
      "text/html": [
       "<table>\n",
       "<thead><tr><th></th><th scope=col>Value</th></tr></thead>\n",
       "<tbody>\n",
       "\t<tr><th scope=row>r.squared</th><td>0.002005915</td></tr>\n",
       "\t<tr><th scope=row>adj.r.squared</th><td>0.002002717</td></tr>\n",
       "</tbody>\n",
       "</table>\n"
      ],
      "text/latex": [
       "\\begin{tabular}{r|l}\n",
       "  & Value\\\\\n",
       "\\hline\n",
       "\tr.squared & 0.002005915\\\\\n",
       "\tadj.r.squared & 0.002002717\\\\\n",
       "\\end{tabular}\n"
      ],
      "text/markdown": [
       "\n",
       "| <!--/--> | Value | \n",
       "|---|---|\n",
       "| r.squared | 0.002005915 | \n",
       "| adj.r.squared | 0.002002717 | \n",
       "\n",
       "\n"
      ],
      "text/plain": [
       "              Value      \n",
       "r.squared     0.002005915\n",
       "adj.r.squared 0.002002717"
      ]
     },
     "metadata": {},
     "output_type": "display_data"
    },
    {
     "data": {
      "text/html": [
       "<table>\n",
       "<thead><tr><th></th><th scope=col>Estimate</th><th scope=col>Std. Error</th><th scope=col>t value</th><th scope=col>Pr(&gt;|t|)</th></tr></thead>\n",
       "<tbody>\n",
       "\t<tr><th scope=row>(Intercept)</th><td>5751.6616</td><td>426.3045 </td><td> 13.4919 </td><td>0        </td></tr>\n",
       "\t<tr><th scope=row>pop_density</th><td>  -0.6282</td><td>  0.0224 </td><td>-28.0837 </td><td>0        </td></tr>\n",
       "\t<tr><th scope=row>housing_units</th><td>   0.0044</td><td>  0.0002 </td><td> 17.5306 </td><td>0        </td></tr>\n",
       "</tbody>\n",
       "</table>\n"
      ],
      "text/latex": [
       "\\begin{tabular}{r|llll}\n",
       "  & Estimate & Std. Error & t value & Pr(>\\textbar{}t\\textbar{})\\\\\n",
       "\\hline\n",
       "\t(Intercept) & 5751.6616 & 426.3045  &  13.4919  & 0        \\\\\n",
       "\tpop\\_density &   -0.6282 &   0.0224  & -28.0837  & 0        \\\\\n",
       "\thousing\\_units &    0.0044 &   0.0002  &  17.5306  & 0        \\\\\n",
       "\\end{tabular}\n"
      ],
      "text/markdown": [
       "\n",
       "| <!--/--> | Estimate | Std. Error | t value | Pr(>|t|) | \n",
       "|---|---|---|\n",
       "| (Intercept) | 5751.6616 | 426.3045  |  13.4919  | 0         | \n",
       "| pop_density |   -0.6282 |   0.0224  | -28.0837  | 0         | \n",
       "| housing_units |    0.0044 |   0.0002  |  17.5306  | 0         | \n",
       "\n",
       "\n"
      ],
      "text/plain": [
       "              Estimate  Std. Error t value  Pr(>|t|)\n",
       "(Intercept)   5751.6616 426.3045    13.4919 0       \n",
       "pop_density     -0.6282   0.0224   -28.0837 0       \n",
       "housing_units    0.0044   0.0002    17.5306 0       "
      ]
     },
     "metadata": {},
     "output_type": "display_data"
    }
   ],
   "source": [
    "# MULTIPLE REGRESSION\n",
    "model <- lm(rides ~ pop_density + housing_units, reg_df)\n",
    "\n",
    "round(anova(model), 4)\n",
    "data.frame(Value=c(summary(model)$r.squared, summary(model)$adj.r.squared),\n",
    "           row.names = c(\"r.squared\", \"adj.r.squared\"))\n",
    "\n",
    "round(summary(model)$coefficients, 4)"
   ]
  },
  {
   "cell_type": "code",
   "execution_count": 23,
   "metadata": {},
   "outputs": [
    {
     "data": {
      "text/html": [
       "<table>\n",
       "<thead><tr><th></th><th scope=col>Df</th><th scope=col>Sum Sq</th><th scope=col>Mean Sq</th><th scope=col>F value</th><th scope=col>Pr(&gt;F)</th></tr></thead>\n",
       "<tbody>\n",
       "\t<tr><th scope=row>log_pop</th><td>     1     </td><td>   452.7211</td><td>452.7211   </td><td>536.0354   </td><td> 0         </td></tr>\n",
       "\t<tr><th scope=row>Residuals</th><td>616040     </td><td>520290.8941</td><td>  0.8446   </td><td>      NA   </td><td>NA         </td></tr>\n",
       "</tbody>\n",
       "</table>\n"
      ],
      "text/latex": [
       "\\begin{tabular}{r|lllll}\n",
       "  & Df & Sum Sq & Mean Sq & F value & Pr(>F)\\\\\n",
       "\\hline\n",
       "\tlog\\_pop &      1      &    452.7211 & 452.7211    & 536.0354    &  0         \\\\\n",
       "\tResiduals & 616040      & 520290.8941 &   0.8446    &       NA    & NA         \\\\\n",
       "\\end{tabular}\n"
      ],
      "text/markdown": [
       "\n",
       "| <!--/--> | Df | Sum Sq | Mean Sq | F value | Pr(>F) | \n",
       "|---|---|\n",
       "| log_pop |      1      |    452.7211 | 452.7211    | 536.0354    |  0          | \n",
       "| Residuals | 616040      | 520290.8941 |   0.8446    |       NA    | NA          | \n",
       "\n",
       "\n"
      ],
      "text/plain": [
       "          Df     Sum Sq      Mean Sq  F value  Pr(>F)\n",
       "log_pop        1    452.7211 452.7211 536.0354  0    \n",
       "Residuals 616040 520290.8941   0.8446       NA NA    "
      ]
     },
     "metadata": {},
     "output_type": "display_data"
    },
    {
     "data": {
      "text/html": [
       "<table>\n",
       "<thead><tr><th></th><th scope=col>Value</th></tr></thead>\n",
       "<tbody>\n",
       "\t<tr><th scope=row>r.squared</th><td>0.0008693743</td></tr>\n",
       "\t<tr><th scope=row>adj.r.squared</th><td>0.0008677524</td></tr>\n",
       "</tbody>\n",
       "</table>\n"
      ],
      "text/latex": [
       "\\begin{tabular}{r|l}\n",
       "  & Value\\\\\n",
       "\\hline\n",
       "\tr.squared & 0.0008693743\\\\\n",
       "\tadj.r.squared & 0.0008677524\\\\\n",
       "\\end{tabular}\n"
      ],
      "text/markdown": [
       "\n",
       "| <!--/--> | Value | \n",
       "|---|---|\n",
       "| r.squared | 0.0008693743 | \n",
       "| adj.r.squared | 0.0008677524 | \n",
       "\n",
       "\n"
      ],
      "text/plain": [
       "              Value       \n",
       "r.squared     0.0008693743\n",
       "adj.r.squared 0.0008677524"
      ]
     },
     "metadata": {},
     "output_type": "display_data"
    },
    {
     "data": {
      "text/html": [
       "<table>\n",
       "<thead><tr><th></th><th scope=col>Estimate</th><th scope=col>Std. Error</th><th scope=col>t value</th><th scope=col>Pr(&gt;|t|)</th></tr></thead>\n",
       "<tbody>\n",
       "\t<tr><th scope=row>(Intercept)</th><td>35.7302 </td><td>1.2082  </td><td> 29.5742</td><td>0       </td></tr>\n",
       "\t<tr><th scope=row>log_pop</th><td>-1.8876 </td><td>0.0815  </td><td>-23.1524</td><td>0       </td></tr>\n",
       "</tbody>\n",
       "</table>\n"
      ],
      "text/latex": [
       "\\begin{tabular}{r|llll}\n",
       "  & Estimate & Std. Error & t value & Pr(>\\textbar{}t\\textbar{})\\\\\n",
       "\\hline\n",
       "\t(Intercept) & 35.7302  & 1.2082   &  29.5742 & 0       \\\\\n",
       "\tlog\\_pop & -1.8876  & 0.0815   & -23.1524 & 0       \\\\\n",
       "\\end{tabular}\n"
      ],
      "text/markdown": [
       "\n",
       "| <!--/--> | Estimate | Std. Error | t value | Pr(>|t|) | \n",
       "|---|---|\n",
       "| (Intercept) | 35.7302  | 1.2082   |  29.5742 | 0        | \n",
       "| log_pop | -1.8876  | 0.0815   | -23.1524 | 0        | \n",
       "\n",
       "\n"
      ],
      "text/plain": [
       "            Estimate Std. Error t value  Pr(>|t|)\n",
       "(Intercept) 35.7302  1.2082      29.5742 0       \n",
       "log_pop     -1.8876  0.0815     -23.1524 0       "
      ]
     },
     "metadata": {},
     "output_type": "display_data"
    }
   ],
   "source": [
    "# REGRESSION WITH NATURAL LOGS\n",
    "reg_df <- subset(reg_df, rides > 0)\n",
    "reg_df$log_pop <- log(reg_df$population)\n",
    "reg_df$log_rides <- log(reg_df$rides)\n",
    "\n",
    "model <- lm(log_rides ~ log_pop, reg_df)\n",
    "\n",
    "round(anova(model), 4)\n",
    "data.frame(Value=c(summary(model)$r.squared, summary(model)$adj.r.squared),\n",
    "           row.names = c(\"r.squared\", \"adj.r.squared\"))\n",
    "\n",
    "round(summary(model)$coefficients, 4)"
   ]
  },
  {
   "cell_type": "markdown",
   "metadata": {},
   "source": [
    "## Graph Data"
   ]
  },
  {
   "cell_type": "code",
   "execution_count": 26,
   "metadata": {},
   "outputs": [
    {
     "data": {},
     "metadata": {},
     "output_type": "display_data"
    },
    {
     "data": {
      "image/png": "[encoded data removed]",
      "text/plain": [
       "plot without title"
      ]
     },
     "metadata": {},
     "output_type": "display_data"
    }
   ],
   "source": [
    "ggplot(head(agg_df, 10), aes(reorder(stationname, -total), total, fill=stationname)) + \n",
    "  geom_col(width=0.5) + guides(fill=FALSE) +\n",
    "  labs(title=\"Top Top 10 CTA 'L' Stations\", y=\"Rides\") +\n",
    "  scale_y_continuous(expand = c(0, 0), limits=c(0, 100000000), label=comma) +\n",
    "  scale_fill_manual(values = rep(\"#4c72b0\", 10)) +\n",
    "  theme(plot.title = element_text(hjust=0.5, size=18),\n",
    "        axis.text.x = element_text(angle = 23, hjust = 1))"
   ]
  },
  {
   "cell_type": "code",
   "execution_count": 27,
   "metadata": {},
   "outputs": [
    {
     "data": {
      "text/html": [
       "<table>\n",
       "<thead><tr><th scope=col>stationname</th><th scope=col>aggregate</th><th scope=col>value</th></tr></thead>\n",
       "<tbody>\n",
       "\t<tr><td>Clark/Lake        </td><td>count             </td><td>6300              </td></tr>\n",
       "\t<tr><td>Lake/State        </td><td>count             </td><td>6301              </td></tr>\n",
       "\t<tr><td>Chicago/State     </td><td>count             </td><td>6299              </td></tr>\n",
       "\t<tr><td>95th/Dan Ryan     </td><td>count             </td><td>6274              </td></tr>\n",
       "\t<tr><td>Belmont-North Main</td><td>count             </td><td>6299              </td></tr>\n",
       "\t<tr><td>Fullerton         </td><td>count             </td><td>6300              </td></tr>\n",
       "</tbody>\n",
       "</table>\n"
      ],
      "text/latex": [
       "\\begin{tabular}{r|lll}\n",
       " stationname & aggregate & value\\\\\n",
       "\\hline\n",
       "\t Clark/Lake         & count              & 6300              \\\\\n",
       "\t Lake/State         & count              & 6301              \\\\\n",
       "\t Chicago/State      & count              & 6299              \\\\\n",
       "\t 95th/Dan Ryan      & count              & 6274              \\\\\n",
       "\t Belmont-North Main & count              & 6299              \\\\\n",
       "\t Fullerton          & count              & 6300              \\\\\n",
       "\\end{tabular}\n"
      ],
      "text/markdown": [
       "\n",
       "stationname | aggregate | value | \n",
       "|---|---|---|---|---|---|\n",
       "| Clark/Lake         | count              | 6300               | \n",
       "| Lake/State         | count              | 6301               | \n",
       "| Chicago/State      | count              | 6299               | \n",
       "| 95th/Dan Ryan      | count              | 6274               | \n",
       "| Belmont-North Main | count              | 6299               | \n",
       "| Fullerton          | count              | 6300               | \n",
       "\n",
       "\n"
      ],
      "text/plain": [
       "  stationname        aggregate value\n",
       "1 Clark/Lake         count     6300 \n",
       "2 Lake/State         count     6301 \n",
       "3 Chicago/State      count     6299 \n",
       "4 95th/Dan Ryan      count     6274 \n",
       "5 Belmont-North Main count     6299 \n",
       "6 Fullerton          count     6300 "
      ]
     },
     "metadata": {},
     "output_type": "display_data"
    }
   ],
   "source": [
    "rdf <- reshape(agg_df, varying = names(agg_df)[-1], v.names = \"value\",\n",
    "               timevar = \"aggregate\", times = names(agg_df)[-1], idvar = \"stationname\", \n",
    "               new.row.names=1:10000, direction=\"long\")\n",
    "\n",
    "rdf <- rdf[rdf$stationname %in% head(agg_df$stationname,10) & rdf$aggregate!='total',]\n",
    "\n",
    "head(rdf)"
   ]
  },
  {
   "cell_type": "code",
   "execution_count": 28,
   "metadata": {},
   "outputs": [
    {
     "data": {},
     "metadata": {},
     "output_type": "display_data"
    },
    {
     "data": {
      "image/png": "[encoded data removed]",
      "text/plain": [
       "plot without title"
      ]
     },
     "metadata": {},
     "output_type": "display_data"
    }
   ],
   "source": [
    "ggplot(rdf, aes(x=reorder(stationname, -value), y=value, fill=aggregate)) + \n",
    "  stat_summary(fun.y=\"sum\", geom=\"bar\", position=\"dodge\") +\n",
    "  labs(title=\"Top Top 10 CTA 'L' Stations by Ridership by Aggregates\", x=\"Stations\", y=\"Value\") +\n",
    "  scale_fill_manual(values = seabornPalette) +\n",
    "  scale_y_continuous(expand = c(0, 0), lim=c(0,40000)) +\n",
    "  theme(legend.position=\"bottom\", plot.title = element_text(hjust=0.5, size=16),\n",
    "        axis.text.x = element_text(angle = 23, hjust = 1))"
   ]
  },
  {
   "cell_type": "code",
   "execution_count": 27,
   "metadata": {},
   "outputs": [
    {
     "data": {},
     "metadata": {},
     "output_type": "display_data"
    },
    {
     "data": {
      "image/png": "[encoded data removed]",
      "text/plain": [
       "plot without title"
      ]
     },
     "metadata": {},
     "output_type": "display_data"
    }
   ],
   "source": [
    "agg_df <- do.call(data.frame, \n",
    "                  aggregate(rides ~ year, transform(rides_df, year = as.factor(format(rides_df$date, '%Y'))), \n",
    "                  FUN = function(x) c(rides_mean = mean(x), rides_median = median(x))))\n",
    "\n",
    "names(agg_df) <- gsub(\"rides.\", \"\", names(agg_df)) \n",
    "                                        \n",
    "rdf <- reshape(agg_df, varying = names(agg_df)[-1], v.names = \"value\",\n",
    "               timevar = \"aggregate\", times = names(agg_df)[-1], idvar = \"year\", \n",
    "               new.row.names=1:10000, direction=\"long\")\n",
    "\n",
    "ggplot(rdf, aes(x=year, y=value, color=factor(aggregate), group = aggregate)) + \n",
    "  geom_line(stat=\"identity\") + geom_point(stat=\"identity\") +\n",
    "  labs(title=\"Annual Mean and Median Ridership, 2001-2018\", x=\"Stations\", y=\"Value\", color=\"Aggregate\") +\n",
    "  guides(fill=FALSE) +\n",
    "  scale_y_continuous(expand = c(0, 0), lim=c(1500,4000)) +\n",
    "  scale_colour_manual(values=c(\"#4c72b0\",\"#55a868\")) +\n",
    "  theme(plot.title = element_text(hjust=0.5, size=16),\n",
    "        axis.text.x = element_text(hjust = 0.5))     \n",
    "                            "
   ]
  },
  {
   "cell_type": "code",
   "execution_count": 9,
   "metadata": {},
   "outputs": [
    {
     "data": {},
     "metadata": {},
     "output_type": "display_data"
    },
    {
     "data": {
      "image/png": "[encoded data removed]",
      "text/plain": [
       "plot without title"
      ]
     },
     "metadata": {},
     "output_type": "display_data"
    }
   ],
   "source": [
    "sub <- xml_df[c(\"stop_id\", \"direction_id\", \"red\", \"blue\", \"green\", \"brown\", \"purple\", \"purple_exp\", \"yellow\", \"pink\", \"orange\")]\n",
    "\n",
    "rdf <- reshape(sub, varying = names(sub)[3:ncol(sub)], v.names = \"value\",\n",
    "               timevar = \"line\", times = names(sub)[3:ncol(sub)], idvar = c(\"stop_id\", \"direction_id\"),\n",
    "               new.row.names=1:10000, direction=\"long\")\n",
    "\n",
    "rdf$value <- as.integer(rdf$value)\n",
    "\n",
    "ggplot(rdf, aes(x=reorder(line, -value), y=value, fill=line)) + \n",
    "  stat_summary(fun.y=\"sum\", geom=\"bar\", width=0.5, position=\"dodge\") +\n",
    "  labs(title=\"CTA 'L' Stations System Count\", x=\"Stations\", y=\"Count\") + guides(fill=FALSE) +\n",
    "  scale_fill_manual(values = c(\"#00A1DE\", \"#62361B\", \"#009B3A\", \"#F9461C\", \"#E27EA6\", \n",
    "                               \"#522398\", \"#8059BA\", \"#C60C30\", \"#F9E300\")) +\n",
    "  scale_y_continuous(expand = c(0, 0), lim=c(0,70)) +\n",
    "  theme(legend.position=\"bottom\", plot.title = element_text(hjust=0.5, size=16),\n",
    "        axis.text.x = element_text(hjust = 0.5))"
   ]
  },
  {
   "cell_type": "code",
   "execution_count": 11,
   "metadata": {},
   "outputs": [
    {
     "data": {},
     "metadata": {},
     "output_type": "display_data"
    },
    {
     "data": {
      "image/png": "[encoded data removed]",
      "text/plain": [
       "plot without title"
      ]
     },
     "metadata": {},
     "output_type": "display_data"
    }
   ],
   "source": [
    "sub_df <- json_df[c(\"stop_id\", \"direction_id\", \"red\", \"blue\", \"green\", \"brown\", \"purple\", \"purple_exp\", \"yellow\", \"pink\", \"orange\")]\n",
    "\n",
    "rdf <- reshape(sub, varying = names(sub)[3:ncol(sub)], v.names = \"value\",\n",
    "               timevar = \"line\", times = names(sub)[3:ncol(sub)], idvar = c(\"stop_id\", \"direction_id\"),\n",
    "               new.row.names=1:10000, direction=\"long\")\n",
    "\n",
    "rdf$value <- as.integer(rdf$value)\n",
    "\n",
    "ggplot(rdf, aes(x=reorder(direction_id, -value), y=value, fill=line)) + \n",
    "  stat_summary(fun.y=\"sum\", geom=\"bar\", position=\"dodge\") +\n",
    "  labs(title=\"CTA 'L' Stations System Count by Direction\", x=\"Stations\", y=\"Count\", fill=\"CTA Line\") +\n",
    "  scale_fill_manual(values = c(\"#00A1DE\", \"#62361B\", \"#009B3A\", \"#F9461C\", \"#E27EA6\", \n",
    "                               \"#522398\", \"#8059BA\", \"#C60C30\", \"#F9E300\")) +\n",
    "  scale_y_continuous(expand = c(0, 0), lim=c(0,35)) + guides(fill=guide_legend(nrow=1)) +\n",
    "  theme(legend.position=\"bottom\", plot.title = element_text(hjust=0.5, size=16),\n",
    "        axis.text.x = element_text(hjust = 0.5))"
   ]
  },
  {
   "cell_type": "markdown",
   "metadata": {},
   "source": [
    "## Reticulate \n",
    "\n",
    "<img src=\"IMAGES/Reticulate_Icon.png\" style=\"height:50px;float:left;\">"
   ]
  },
  {
   "cell_type": "code",
   "execution_count": 30,
   "metadata": {},
   "outputs": [
    {
     "data": {
      "text/html": [
       "<table>\n",
       "<thead><tr><th scope=col>station_id</th><th scope=col>stationname</th><th scope=col>date</th><th scope=col>daytype</th><th scope=col>rides</th></tr></thead>\n",
       "<tbody>\n",
       "\t<tr><td>40010             </td><td>Austin-Forest Park</td><td>01/01/2001        </td><td>U                 </td><td> 290              </td></tr>\n",
       "\t<tr><td>40020             </td><td>Harlem-Lake       </td><td>01/01/2001        </td><td>U                 </td><td> 633              </td></tr>\n",
       "\t<tr><td>40030             </td><td>Pulaski-Lake      </td><td>01/01/2001        </td><td>U                 </td><td> 483              </td></tr>\n",
       "\t<tr><td>40040             </td><td>Quincy/Wells      </td><td>01/01/2001        </td><td>U                 </td><td> 374              </td></tr>\n",
       "\t<tr><td>40050             </td><td>Davis             </td><td>01/01/2001        </td><td>U                 </td><td> 804              </td></tr>\n",
       "\t<tr><td>40060             </td><td>Belmont-O'Hare    </td><td>01/01/2001        </td><td>U                 </td><td>1165              </td></tr>\n",
       "</tbody>\n",
       "</table>\n"
      ],
      "text/latex": [
       "\\begin{tabular}{r|lllll}\n",
       " station\\_id & stationname & date & daytype & rides\\\\\n",
       "\\hline\n",
       "\t 40010              & Austin-Forest Park & 01/01/2001         & U                  &  290              \\\\\n",
       "\t 40020              & Harlem-Lake        & 01/01/2001         & U                  &  633              \\\\\n",
       "\t 40030              & Pulaski-Lake       & 01/01/2001         & U                  &  483              \\\\\n",
       "\t 40040              & Quincy/Wells       & 01/01/2001         & U                  &  374              \\\\\n",
       "\t 40050              & Davis              & 01/01/2001         & U                  &  804              \\\\\n",
       "\t 40060              & Belmont-O'Hare     & 01/01/2001         & U                  & 1165              \\\\\n",
       "\\end{tabular}\n"
      ],
      "text/markdown": [
       "\n",
       "station_id | stationname | date | daytype | rides | \n",
       "|---|---|---|---|---|---|\n",
       "| 40010              | Austin-Forest Park | 01/01/2001         | U                  |  290               | \n",
       "| 40020              | Harlem-Lake        | 01/01/2001         | U                  |  633               | \n",
       "| 40030              | Pulaski-Lake       | 01/01/2001         | U                  |  483               | \n",
       "| 40040              | Quincy/Wells       | 01/01/2001         | U                  |  374               | \n",
       "| 40050              | Davis              | 01/01/2001         | U                  |  804               | \n",
       "| 40060              | Belmont-O'Hare     | 01/01/2001         | U                  | 1165               | \n",
       "\n",
       "\n"
      ],
      "text/plain": [
       "  station_id stationname        date       daytype rides\n",
       "1 40010      Austin-Forest Park 01/01/2001 U        290 \n",
       "2 40020      Harlem-Lake        01/01/2001 U        633 \n",
       "3 40030      Pulaski-Lake       01/01/2001 U        483 \n",
       "4 40040      Quincy/Wells       01/01/2001 U        374 \n",
       "5 40050      Davis              01/01/2001 U        804 \n",
       "6 40060      Belmont-O'Hare     01/01/2001 U       1165 "
      ]
     },
     "metadata": {},
     "output_type": "display_data"
    },
    {
     "data": {
      "text/plain": [
       "   station_id    stationname            date             daytype         \n",
       " Min.   :40010   Length:897032      Length:897032      Length:897032     \n",
       " 1st Qu.:40370   Class :character   Class :character   Class :character  \n",
       " Median :40750   Mode  :character   Mode  :character   Mode  :character  \n",
       " Mean   :40761                                                           \n",
       " 3rd Qu.:41150                                                           \n",
       " Max.   :41700                                                           \n",
       "     rides      \n",
       " Min.   :    0  \n",
       " 1st Qu.: 1121  \n",
       " Median : 2316  \n",
       " Mean   : 3305  \n",
       " 3rd Qu.: 4348  \n",
       " Max.   :36323  "
      ]
     },
     "metadata": {},
     "output_type": "display_data"
    }
   ],
   "source": [
    "library(reticulate)\n",
    "\n",
    "pd <- import(\"pandas\")\n",
    "\n",
    "r_df <- pd$read_csv(\"DATA/CTA_Ridership_L_Station_Entries_DailyTotals.csv\")\n",
    "\n",
    "head(r_df)\n",
    "\n",
    "summary(r_df)\n"
   ]
  },
  {
   "cell_type": "markdown",
   "metadata": {},
   "source": [
    "## C/C++ Programming Calls\n",
    "\n",
    "<img src=\"IMAGES/C_Logo.png\" style=\"float:left;height:50px\"/>\n",
    "<img src=\"IMAGES/Cplusplus_Logo.png.png\" style=\"float:left;height:50px\"/>"
   ]
  },
  {
   "cell_type": "code",
   "execution_count": 31,
   "metadata": {},
   "outputs": [
    {
     "data": {
      "text/html": [
       "<table>\n",
       "<thead><tr><th></th><th scope=col>station_id</th><th scope=col>stationname</th><th scope=col>date</th><th scope=col>daytype</th><th scope=col>rides</th></tr></thead>\n",
       "<tbody>\n",
       "\t<tr><th scope=row>751850</th><td>41320             </td><td>Belmont-North Main</td><td>2015-06-28        </td><td>U                 </td><td>36323             </td></tr>\n",
       "\t<tr><th scope=row>594785</th><td>41320             </td><td>Belmont-North Main</td><td>2012-06-24        </td><td>U                 </td><td>36017             </td></tr>\n",
       "\t<tr><th scope=row>823147</th><td>41660             </td><td>Lake/State        </td><td>2016-11-04        </td><td>W                 </td><td>35845             </td></tr>\n",
       "\t<tr><th scope=row>542705</th><td>41320             </td><td>Belmont-North Main</td><td>2011-06-26        </td><td>U                 </td><td>33795             </td></tr>\n",
       "\t<tr><th scope=row>822274</th><td>41420             </td><td>Addison-North Main</td><td>2016-10-29        </td><td>A                 </td><td>33615             </td></tr>\n",
       "\t<tr><th scope=row>647838</th><td>41320             </td><td>Belmont-North Main</td><td>2013-06-30        </td><td>U                 </td><td>30457             </td></tr>\n",
       "\t<tr><th scope=row>823043</th><td>40380             </td><td>Clark/Lake        </td><td>2016-11-04        </td><td>W                 </td><td>30295             </td></tr>\n",
       "\t<tr><th scope=row>440057</th><td>41320             </td><td>Belmont-North Main</td><td>2009-06-28        </td><td>U                 </td><td>29457             </td></tr>\n",
       "\t<tr><th scope=row>491381</th><td>41320             </td><td>Belmont-North Main</td><td>2010-06-27        </td><td>U                 </td><td>29050             </td></tr>\n",
       "\t<tr><th scope=row>762667</th><td>41660             </td><td>Lake/State        </td><td>2015-09-11        </td><td>W                 </td><td>28460             </td></tr>\n",
       "</tbody>\n",
       "</table>\n"
      ],
      "text/latex": [
       "\\begin{tabular}{r|lllll}\n",
       "  & station\\_id & stationname & date & daytype & rides\\\\\n",
       "\\hline\n",
       "\t751850 & 41320              & Belmont-North Main & 2015-06-28         & U                  & 36323             \\\\\n",
       "\t594785 & 41320              & Belmont-North Main & 2012-06-24         & U                  & 36017             \\\\\n",
       "\t823147 & 41660              & Lake/State         & 2016-11-04         & W                  & 35845             \\\\\n",
       "\t542705 & 41320              & Belmont-North Main & 2011-06-26         & U                  & 33795             \\\\\n",
       "\t822274 & 41420              & Addison-North Main & 2016-10-29         & A                  & 33615             \\\\\n",
       "\t647838 & 41320              & Belmont-North Main & 2013-06-30         & U                  & 30457             \\\\\n",
       "\t823043 & 40380              & Clark/Lake         & 2016-11-04         & W                  & 30295             \\\\\n",
       "\t440057 & 41320              & Belmont-North Main & 2009-06-28         & U                  & 29457             \\\\\n",
       "\t491381 & 41320              & Belmont-North Main & 2010-06-27         & U                  & 29050             \\\\\n",
       "\t762667 & 41660              & Lake/State         & 2015-09-11         & W                  & 28460             \\\\\n",
       "\\end{tabular}\n"
      ],
      "text/markdown": [
       "\n",
       "| <!--/--> | station_id | stationname | date | daytype | rides | \n",
       "|---|---|---|---|---|---|---|---|---|---|\n",
       "| 751850 | 41320              | Belmont-North Main | 2015-06-28         | U                  | 36323              | \n",
       "| 594785 | 41320              | Belmont-North Main | 2012-06-24         | U                  | 36017              | \n",
       "| 823147 | 41660              | Lake/State         | 2016-11-04         | W                  | 35845              | \n",
       "| 542705 | 41320              | Belmont-North Main | 2011-06-26         | U                  | 33795              | \n",
       "| 822274 | 41420              | Addison-North Main | 2016-10-29         | A                  | 33615              | \n",
       "| 647838 | 41320              | Belmont-North Main | 2013-06-30         | U                  | 30457              | \n",
       "| 823043 | 40380              | Clark/Lake         | 2016-11-04         | W                  | 30295              | \n",
       "| 440057 | 41320              | Belmont-North Main | 2009-06-28         | U                  | 29457              | \n",
       "| 491381 | 41320              | Belmont-North Main | 2010-06-27         | U                  | 29050              | \n",
       "| 762667 | 41660              | Lake/State         | 2015-09-11         | W                  | 28460              | \n",
       "\n",
       "\n"
      ],
      "text/plain": [
       "       station_id stationname        date       daytype rides\n",
       "751850 41320      Belmont-North Main 2015-06-28 U       36323\n",
       "594785 41320      Belmont-North Main 2012-06-24 U       36017\n",
       "823147 41660      Lake/State         2016-11-04 W       35845\n",
       "542705 41320      Belmont-North Main 2011-06-26 U       33795\n",
       "822274 41420      Addison-North Main 2016-10-29 A       33615\n",
       "647838 41320      Belmont-North Main 2013-06-30 U       30457\n",
       "823043 40380      Clark/Lake         2016-11-04 W       30295\n",
       "440057 41320      Belmont-North Main 2009-06-28 U       29457\n",
       "491381 41320      Belmont-North Main 2010-06-27 U       29050\n",
       "762667 41660      Lake/State         2015-09-11 W       28460"
      ]
     },
     "metadata": {},
     "output_type": "display_data"
    }
   ],
   "source": [
    "# TOP TEN RIDES OVERALL\n",
    "head(with(rides_df, rides_df[order(-rides_df$rides),]), 10)"
   ]
  },
  {
   "cell_type": "code",
   "execution_count": 29,
   "metadata": {},
   "outputs": [],
   "source": [
    "# C AND FORTRAN CALLERS\n",
    "?.C()\n",
    "?.Fortran()\n",
    "\n",
    "## R CMD SHLIB my_code.c\n",
    "## dyn.load('my_c_code.so')\n",
    "## .C(\"myfunc\", args)\n",
    "## .Fortran(\"myfunc\", args)"
   ]
  },
  {
   "cell_type": "code",
   "execution_count": 33,
   "metadata": {},
   "outputs": [
    {
     "data": {
      "text/html": [
       "<ol class=list-inline>\n",
       "\t<li>36323</li>\n",
       "\t<li>72340</li>\n",
       "\t<li>108185</li>\n",
       "\t<li>141980</li>\n",
       "\t<li>175595</li>\n",
       "\t<li>206052</li>\n",
       "\t<li>236347</li>\n",
       "\t<li>265804</li>\n",
       "\t<li>294854</li>\n",
       "\t<li>323314</li>\n",
       "</ol>\n"
      ],
      "text/latex": [
       "\\begin{enumerate*}\n",
       "\\item 36323\n",
       "\\item 72340\n",
       "\\item 108185\n",
       "\\item 141980\n",
       "\\item 175595\n",
       "\\item 206052\n",
       "\\item 236347\n",
       "\\item 265804\n",
       "\\item 294854\n",
       "\\item 323314\n",
       "\\end{enumerate*}\n"
      ],
      "text/markdown": [
       "1. 36323\n",
       "2. 72340\n",
       "3. 108185\n",
       "4. 141980\n",
       "5. 175595\n",
       "6. 206052\n",
       "7. 236347\n",
       "8. 265804\n",
       "9. 294854\n",
       "10. 323314\n",
       "\n",
       "\n"
      ],
      "text/plain": [
       " [1]  36323  72340 108185 141980 175595 206052 236347 265804 294854 323314"
      ]
     },
     "metadata": {},
     "output_type": "display_data"
    }
   ],
   "source": [
    "library(inline)\n",
    "\n",
    "sum_top_rides <- cfunction(c(x = \"ANY\"), '\n",
    "  int n = length(x);\n",
    "  double sum = 0;\n",
    "\n",
    "  SEXP out = PROTECT(allocVector(REALSXP, n));\n",
    "\n",
    "  for (int i = 0; i < n; i++) {\n",
    "    sum = sum + REAL(x)[i];\n",
    "    REAL(out)[i] = sum;\n",
    "  }\n",
    "\n",
    "  UNPROTECT(1);\n",
    "\n",
    "  return out;\n",
    "')\n",
    "\n",
    "sum_top_rides(c(36323, 36017, 35845, 33795, 33615, 30457, 30295, 29457, 29050, 28460))"
   ]
  },
  {
   "cell_type": "code",
   "execution_count": 37,
   "metadata": {},
   "outputs": [
    {
     "data": {
      "text/html": [
       "<ol class=list-inline>\n",
       "\t<li>36323</li>\n",
       "\t<li>72340</li>\n",
       "\t<li>108185</li>\n",
       "\t<li>141980</li>\n",
       "\t<li>175595</li>\n",
       "\t<li>206052</li>\n",
       "\t<li>236347</li>\n",
       "\t<li>265804</li>\n",
       "\t<li>294854</li>\n",
       "\t<li>323314</li>\n",
       "</ol>\n"
      ],
      "text/latex": [
       "\\begin{enumerate*}\n",
       "\\item 36323\n",
       "\\item 72340\n",
       "\\item 108185\n",
       "\\item 141980\n",
       "\\item 175595\n",
       "\\item 206052\n",
       "\\item 236347\n",
       "\\item 265804\n",
       "\\item 294854\n",
       "\\item 323314\n",
       "\\end{enumerate*}\n"
      ],
      "text/markdown": [
       "1. 36323\n",
       "2. 72340\n",
       "3. 108185\n",
       "4. 141980\n",
       "5. 175595\n",
       "6. 206052\n",
       "7. 236347\n",
       "8. 265804\n",
       "9. 294854\n",
       "10. 323314\n",
       "\n",
       "\n"
      ],
      "text/plain": [
       " [1]  36323  72340 108185 141980 175595 206052 236347 265804 294854 323314"
      ]
     },
     "metadata": {},
     "output_type": "display_data"
    }
   ],
   "source": [
    "library(Rcpp)\n",
    "\n",
    "cppFunction('NumericVector cum_sum_rides(NumericVector x) {\n",
    "  int n = x.size();\n",
    "  double sum = 0;\n",
    "  NumericVector top_rides(n);\n",
    "\n",
    "  for(int i = 0; i < n; ++i) {\n",
    "    sum += x[i];\n",
    "    top_rides[i] = sum;\n",
    "  }\n",
    "\n",
    "  return top_rides;\n",
    "}')\n",
    "\n",
    "\n",
    "cum_sum_rides(head(with(rides_df, rides_df[order(-rides_df$rides),'rides']), 10))"
   ]
  },
  {
   "cell_type": "markdown",
   "metadata": {},
   "source": [
    "## Data Applications\n",
    "\n",
    "### Desktop GUI (Gwidgets)\n",
    "\n",
    "<img src=\"IMAGES/Tcl-tk_Icon.gif\" style=\"float:left;height:50px;\"/>"
   ]
  },
  {
   "cell_type": "code",
   "execution_count": null,
   "metadata": {},
   "outputs": [],
   "source": [
    "system(paste0(\"Rscript \", getwd(), \"/APPS/GUI_R_GWidgets.R\"))"
   ]
  },
  {
   "cell_type": "markdown",
   "metadata": {},
   "source": [
    "### Web App (Shiny)\n",
    "\n",
    "<img src=\"IMAGES/Shiny_Logo.png\" style=\"float:left;height:50px;\"/>"
   ]
  },
  {
   "cell_type": "code",
   "execution_count": 43,
   "metadata": {},
   "outputs": [],
   "source": [
    "# LINUX SHELL COMMAND CALL\n",
    "system(paste0(\"gnome-terminal -x Rscript -e \\\"library(shiny); setwd('\", getwd(), \"/APPS'); runApp('Web_Shiny_R.R')\\\"\"))\n",
    "\n",
    "# MAC: replace \"gnome-terminal -x\" with \"open -a\"\n",
    "# WINDOWS: replace \"gnome-terminal -x\" with \"cmd.exe /k\" (and wrap Rscript call in quotations)"
   ]
  },
  {
   "cell_type": "code",
   "execution_count": null,
   "metadata": {},
   "outputs": [],
   "source": []
  }
 ],
 "metadata": {
  "kernelspec": {
   "display_name": "R",
   "language": "R",
   "name": "ir"
  },
  "language_info": {
   "codemirror_mode": "r",
   "file_extension": ".r",
   "mimetype": "text/x-r-source",
   "name": "R",
   "pygments_lexer": "r",
   "version": "3.4.4"
  }
 },
 "nbformat": 4,
 "nbformat_minor": 2
}
