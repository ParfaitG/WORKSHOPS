{
 "cells": [
  {
   "cell_type": "code",
   "execution_count": 7,
   "metadata": {},
   "outputs": [],
   "source": [
    "library(data.table)\n",
    "\n",
    "library(ggplot2)\n",
    "library(microbenchmark)\n",
    "\n",
    "rm(list=ls())"
   ]
  },
  {
   "cell_type": "markdown",
   "metadata": {},
   "source": [
    "## Import Data"
   ]
  },
  {
   "cell_type": "code",
   "execution_count": 6,
   "metadata": {},
   "outputs": [
    {
     "ename": "ERROR",
     "evalue": "Error in fread(file = \"DATA/CHI_CommAreas_Census2010.csv\", sep = \",\", : Provided file 'DATA/CHI_CommAreas_Census2010.csv' does not exists.\n",
     "output_type": "error",
     "traceback": [
      "Error in fread(file = \"DATA/CHI_CommAreas_Census2010.csv\", sep = \",\", : Provided file 'DATA/CHI_CommAreas_Census2010.csv' does not exists.\nTraceback:\n",
      "1. fread(file = \"DATA/CHI_CommAreas_Census2010.csv\", sep = \",\", \n .     header = TRUE, skip = 1)",
      "2. stop(sprintf(\"Provided file '%s' does not exists.\", file))"
     ]
    }
   ],
   "source": [
    "census_dt <- fread(file='DATA/CHI_CommAreas_Census2010.csv', sep=\",\", header=TRUE, skip=1)\n",
    "\n",
    "head(census_dt, 10)"
   ]
  },
  {
   "cell_type": "markdown",
   "metadata": {},
   "source": [
    "## Extract Data"
   ]
  },
  {
   "cell_type": "code",
   "execution_count": null,
   "metadata": {},
   "outputs": [],
   "source": [
    "extract_fct <- function() {\n",
    "  \n",
    "  race_dt <<- census_dt[, .SD, .SDcols = names(census_dt) %like% \"Geog|Hispanic\"]\n",
    "  \n",
    "  age_dt <<- census_dt[, .SD, .SDcols = names(census_dt) %like% \"Geog|years\"]\n",
    "  \n",
    "  gender_dt <<- census_dt[, .SD, .SDcols = names(census_dt) %like% \"Geog|Population|Male|Female\"]\n",
    "  \n",
    "  educ_dt <<- fread(file='DATA/CHI_CommAreas_Educ2010.csv', sep=\",\", header=TRUE)\n",
    "    \n",
    "  hholds_dt <<- census_dt[, .SD, .SDcols = names(census_dt) %like% \"Geog|Households\"]\n",
    "  \n",
    "  housing_dt <<- census_dt[, .SD, .SDcols = names(census_dt) %like% \"Geog|Total.Housing|Occupied|Vacant\"]\n",
    "  housing_dt <<- housing_dt[,unique(names(housing_dt)),with=FALSE]\n",
    "  \n",
    "  occupied_dt <<- census_dt[, .SD, .SDcols = names(census_dt) %like% \"Geog|Owned|Renter\"]\n",
    "}"
   ]
  },
  {
   "cell_type": "code",
   "execution_count": null,
   "metadata": {},
   "outputs": [],
   "source": [
    "extract_fct()"
   ]
  },
  {
   "cell_type": "markdown",
   "metadata": {},
   "source": [
    "## Reshape Data"
   ]
  },
  {
   "cell_type": "code",
   "execution_count": null,
   "metadata": {},
   "outputs": [],
   "source": [
    "reshape_fct <- function() {\n",
    "  \n",
    "  # RACE\n",
    "  race_long_dt <<- melt(race_dt, id.vars = c(\"Geog\", \"GeogKey\"), \n",
    "                       variable.name = \"Race_Ethnicity\", value.name = \"Population\")\n",
    "  \n",
    "  # AGE\n",
    "  age_dt[, gsub(\"Male\", \"Age\", names(age_dt)[names(age_dt) %like% \"Male\"])] <<- \n",
    "    age_dt[, .SD, .SDcols = names(age_dt) %like% \"Male\"] +\n",
    "    age_dt[, .SD, .SDcols = names(age_dt) %like% \"Female\"]\n",
    "  \n",
    "  age_dt <<- age_dt[, .SD, .SDcols = names(age_dt) %like% \"Geog|Age\"]\n",
    "  \n",
    "  age_long_dt <<- melt(age_dt, id.vars = c(\"Geog\", \"GeogKey\"), \n",
    "                       variable.name = \"Age_Group\", value.name = \"Population\")\n",
    "  \n",
    "  # GENDER\n",
    "  gender_dt <<- gender_dt[ ,male := rowSums(.SD), .SDcols = names(gender_dt) %like% \"^Male\"]\n",
    "  gender_dt <<- gender_dt[ ,female := rowSums(.SD), .SDcols = names(gender_dt) %like% \"Female\"]\n",
    "  \n",
    "  all.equal(gender_dt$`Total Population`, gender_dt$male + gender_dt$female)\n",
    "  \n",
    "  gender_long_dt <<- melt(gender_dt[, .SD, .SDcols=names(gender_dt) %like% \"Geog|^male|female\"], \n",
    "                          id.vars = c(\"Geog\", \"GeogKey\"), \n",
    "                          variable.name = \"Gender\", value.name = \"Population\")\n",
    "  \n",
    "  # EDUCATION\n",
    "  educ_long_dt <<- melt(educ_dt[,.SD,.SDcols=names(educ_dt) %like% \"Geog|^Total\"], \n",
    "                        id.vars = c(\"Geog\", \"GeogKey\"), \n",
    "                        variable.name = \"Education_Level\", value.name = \"Population\")\n",
    "  \n",
    "  ## HOUSEHOLD\n",
    "  hholds_long_dt <<- hholds_dt\n",
    "  \n",
    "  ## HOUSING UNITS\n",
    "  housing_long_dt <<- melt(housing_dt, id.vars = c(\"Geog\", \"GeogKey\"),\n",
    "                           variable.name = \"Occupied_Status\", value.name = \"Housing_Units\")\n",
    "  \n",
    "  ## OCCUPIED HOUSING\n",
    "  occupied_long_dt <<- melt(occupied_dt, id.vars = c(\"Geog\", \"GeogKey\"),\n",
    "                            variable.name = \"Occupied_Type\", value.name = \"Housing_Units\")\n",
    "}"
   ]
  },
  {
   "cell_type": "code",
   "execution_count": null,
   "metadata": {},
   "outputs": [],
   "source": [
    "reshape_fct()"
   ]
  },
  {
   "cell_type": "markdown",
   "metadata": {},
   "source": [
    "## Summarize Data"
   ]
  },
  {
   "cell_type": "code",
   "execution_count": null,
   "metadata": {},
   "outputs": [],
   "source": [
    "summarize_fct <- function() {\n",
    "  \n",
    "  # COMM AREA\n",
    "  comm_aggdt <- census_dt[, list(mean_population = mean(`Total Population`),\n",
    "                                        median_population = median(`Total Population`),\n",
    "                                        min_population = min(`Total Population`),\n",
    "                                        max_population = max(`Total Population`),\n",
    "                                        total_population = sum(`Total Population`)), ]\n",
    "  \n",
    "  # RACE\n",
    "  setkey(race_long_dt, Race_Ethnicity)\n",
    "  race_aggdt <- race_long_dt[, list(mean_popluation = mean(Population),\n",
    "                                    median_population = median(Population),\n",
    "                                    min_population = min(Population),\n",
    "                                    max_population = max(Population),\n",
    "                                    total_popluation = sum(Population)), by = Race_Ethnicity]\n",
    "  \n",
    "  # AGE\n",
    "  setkey(age_long_dt, Age_Group)\n",
    "  age_aggdt <- age_long_dt[, list(mean_popluation = mean(Population),\n",
    "                                  median_population = median(Population),\n",
    "                                  min_population = min(Population),\n",
    "                                  max_population = max(Population),\n",
    "                                  total_popluation = sum(Population)), by = Age_Group]\n",
    "  \n",
    "  # GENDER\n",
    "  setkey(gender_long_dt, Gender)\n",
    "  gender_aggdt <- gender_long_dt[, list(mean_popluation = mean(Population),\n",
    "                                        median_population = median(Population),\n",
    "                                        min_population = min(Population),\n",
    "                                        max_population = max(Population),\n",
    "                                        total_popluation = sum(Population)), by = Gender]\n",
    "  \n",
    "  # EDUCATION\n",
    "  setkey(educ_long_dt, Education_Level)\n",
    "  educ_aggdt <- educ_long_dt[, list(mean_popluation = mean(Population),\n",
    "                                    median_population = median(Population),\n",
    "                                    min_population = min(Population),\n",
    "                                    max_population = max(Population),\n",
    "                                    total_popluation = sum(Population)), by = Education_Level]\n",
    "  \n",
    "  # HOUSEHOLDS\n",
    "  hholds_aggdt <- hholds_long_dt[, list(mean_households = mean(`Total Households`),\n",
    "                                        median_households = median(`Total Households`),\n",
    "                                        min_households = min(`Total Households`),\n",
    "                                        max_households = max(`Total Households`),\n",
    "                                        total_households = sum(`Total Households`)), ]\n",
    "  \n",
    "  # HOUSING\n",
    "  setkey(housing_long_dt, Occupied_Status)\n",
    "  housing_aggdt <- housing_long_dt[, list(mean_housing_units = mean(Housing_Units),\n",
    "                                          median_housing_units = median(Housing_Units),\n",
    "                                          min_housing_units = min(Housing_Units),\n",
    "                                          max_housing_units = max(Housing_Units),\n",
    "                                          total_housing_units = sum(Housing_Units)), by = Occupied_Status]\n",
    "\n",
    "  # OCCUPIED\n",
    "  setkey(occupied_long_dt, Occupied_Type)\n",
    "  \n",
    "  occupied_aggdt <- occupied_long_dt[, list(mean_housing_units = mean(Housing_Units),\n",
    "                                            median_housing_units = median(Housing_Units),\n",
    "                                            min_housing_units = min(Housing_Units),\n",
    "                                            max_housing_units = max(Housing_Units),\n",
    "                                            total_housing_units = sum(Housing_Units)), by = Occupied_Type]\n",
    "\n",
    "  list(comm_aggdt, race_aggdt, age_aggdt, gender_aggdt, educ_aggdt, hholds_aggdt, housing_aggdt, occupied_aggdt)\n",
    "}\n"
   ]
  },
  {
   "cell_type": "code",
   "execution_count": null,
   "metadata": {},
   "outputs": [],
   "source": [
    "summarize_fct()"
   ]
  },
  {
   "cell_type": "markdown",
   "metadata": {},
   "source": [
    "## Graphing Data"
   ]
  },
  {
   "cell_type": "code",
   "execution_count": null,
   "metadata": {},
   "outputs": [],
   "source": [
    "graphing_fct <- function() {\n",
    "  \n",
    "  # COMM AREA\n",
    "  setorder(census_dt, -`Total Population`)\n",
    "  \n",
    "  comm_plot <- ggplot(head(census_dt, 10), aes(x=Geog, y=`Total Population`, fill=factor(Geog))) + \n",
    "    geom_bar(stat=\"identity\", position = position_dodge(width = 0.9)) +\n",
    "    guides(fill=guide_legend(title=\"Geog\", ncol=15)) +\n",
    "    labs(title=\"Top Ten Chicago Community Area - Total Population\", \n",
    "         y=\"Total Population\", x=\"Chicago Community Areas\") +\n",
    "    theme(plot.title = element_text(hjust = 0.5), legend.position=\"bottom\") + \n",
    "    scale_fill_hue(l=45)\n",
    "\n",
    "  # RACE\n",
    "  setkey(race_long_dt, Race_Ethnicity)\n",
    "  setorder(race_long_dt, Race_Ethnicity, -Population)\n",
    "  \n",
    "  grp_dt <- race_long_dt[, .SD[Population %in% head(Population, 10)], by = Race_Ethnicity]\n",
    "\n",
    "  race_plots <- lapply(split(grp_dt, by=c(\"Race_Ethnicity\")), function(dt){\n",
    "    grp <- dt$Race_Ethnicity[1]\n",
    "    \n",
    "    ggplot(dt, aes(x=Geog, y=Population, fill=factor(Geog))) + \n",
    "      geom_bar(stat=\"identity\", position = position_dodge(width = 0.9)) +\n",
    "      guides(fill=guide_legend(title=\"Geog\", ncol=15)) +\n",
    "      labs(title=gsub(\"\\\\.\", \" \", paste(\"Top Ten Chicago Community Area \", grp, sep=\" - \")), \n",
    "           y=\"Population\", x=\"Chicago Community Areas\") +\n",
    "      theme(plot.title = element_text(hjust = 0.5), legend.position=\"bottom\") + \n",
    "      scale_fill_hue(l=45)\n",
    "  })\n",
    "  \n",
    "  # AGE\n",
    "  setkey(age_long_dt, Age_Group)\n",
    "  setorder(age_long_dt, Age_Group, -Population)\n",
    "  \n",
    "  grp_dt <- age_long_dt[, .SD[Population %in% head(Population, 10)], by = Age_Group]\n",
    "\n",
    "  age_plots <- lapply(split(grp_dt, by=\"Age_Group\"), function(dt){\n",
    "    grp <- dt$Age_Group[1]\n",
    "    \n",
    "    ggplot(dt, aes(x=Geog, y=Population, fill=factor(Geog))) + \n",
    "      geom_bar(stat=\"identity\", position = position_dodge(width = 0.9)) +\n",
    "      guides(fill=guide_legend(title=\"Geog\", ncol=15)) +\n",
    "      labs(title=gsub(\"\\\\.\", \" \", paste(\"Top Ten Chicago Community Area \", grp, sep=\" - \")), \n",
    "           y=\"Population\", x=\"Chicago Community Areas\") +\n",
    "      theme(plot.title = element_text(hjust = 0.5), legend.position=\"bottom\") + \n",
    "      scale_fill_hue(l=45)\n",
    "  })\n",
    "  \n",
    "  # GENDER\n",
    "  setkey(gender_long_dt, Gender)\n",
    "  setorder(gender_long_dt, Gender, -Population)\n",
    "  \n",
    "  grp_dt <- gender_long_dt[, .SD[Population %in% head(Population, 10)], by = Gender]\n",
    "\n",
    "  gender_plots <- lapply(split(grp_dt, by=\"Gender\"), function(dt){\n",
    "    grp <- dt$Gender[1]\n",
    "    \n",
    "    ggplot(dt, aes(x=Geog, y=Population, fill=factor(Geog))) + \n",
    "      geom_bar(stat=\"identity\", position = position_dodge(width = 0.9)) +\n",
    "      guides(fill=guide_legend(title=\"Geog\", ncol=15)) +\n",
    "      labs(title=gsub(\"\\\\.\", \" \", paste(\"Top Ten Chicago Community Area \", grp, sep=\" - \")), \n",
    "           y=\"Population\", x=\"Chicago Community Areas\") +\n",
    "      theme(plot.title = element_text(hjust = 0.5), legend.position=\"bottom\") + \n",
    "      scale_fill_hue(l=45)\n",
    "  })\n",
    "  \n",
    "  # EDUCATION\n",
    "  setkey(educ_long_dt, Education_Level)\n",
    "  setorder(educ_long_dt, Education_Level, -Population)\n",
    "  \n",
    "  grp_dt <- educ_long_dt[, .SD[Population %in% head(Population, 10)], by = Education_Level]\n",
    "\n",
    "  educ_plots <- lapply(split(grp_dt, by=\"Education_Level\"), function(dt){\n",
    "    grp <- dt$Education_Level[1]\n",
    "    \n",
    "    ggplot(dt, aes(x=Geog, y=Population, fill=factor(Geog))) + \n",
    "      geom_bar(stat=\"identity\", position = position_dodge(width = 0.9)) +\n",
    "      guides(fill=guide_legend(title=\"Geog\", ncol=15)) +\n",
    "      labs(title=gsub(\"\\\\.\", \" \", paste(\"Top Ten Chicago Community Area \", grp, sep=\" - \")), \n",
    "           y=\"Population\", x=\"Chicago Community Areas\") +\n",
    "      theme(plot.title = element_text(hjust = 0.5), legend.position=\"bottom\") + \n",
    "      scale_fill_hue(l=45)\n",
    "  })\n",
    "  \n",
    "  # HOUSEHOLDS\n",
    "  setorder(hholds_long_dt, -`Total Households`)\n",
    "  \n",
    "  hhold_plot <- ggplot(head(hholds_long_dt, 10), aes(x=Geog, y=`Total Households`, fill=factor(Geog))) + \n",
    "    geom_bar(stat=\"identity\", position = position_dodge(width = 0.9)) +\n",
    "    guides(fill=guide_legend(title=\"Geog\", ncol=15)) +\n",
    "    labs(title=\"Top Ten Chicago Community Area - Total Households\", \n",
    "         y=\"Total Households\", x=\"Chicago Community Areas\") +\n",
    "    theme(plot.title = element_text(hjust = 0.5), legend.position=\"bottom\") + \n",
    "    scale_fill_hue(l=45)\n",
    "  \n",
    "  # HOUSING UNITS\n",
    "  setkey(housing_long_dt, Occupied_Status)\n",
    "  setorder(housing_long_dt, Occupied_Status, -Housing_Units)\n",
    "  \n",
    "  grp_dt <- housing_long_dt[, .SD[Housing_Units %in% head(Housing_Units, 10)], by = Occupied_Status]\n",
    "\n",
    "  housing_plots <- lapply(split(grp_dt, by=\"Occupied_Status\"), function(dt){\n",
    "    grp <- dt$Occupied_Status[1]\n",
    "    \n",
    "    ggplot(dt, aes(x=Geog, y=Housing_Units, fill=factor(Geog))) + \n",
    "      geom_bar(stat=\"identity\", position = position_dodge(width = 0.9)) +\n",
    "      guides(fill=guide_legend(title=\"Geog\", ncol=15)) +\n",
    "      labs(title=gsub(\"\\\\.\", \" \", paste(\"Top Ten Chicago Community Area \", grp, sep=\" - \")), \n",
    "           y=\"Housing Units\", x=\"Chicago Community Areas\") +\n",
    "      theme(plot.title = element_text(hjust = 0.5), legend.position=\"bottom\") + \n",
    "      scale_fill_hue(l=45)\n",
    "  })\n",
    "  \n",
    "  # OCCUPIED HOUSING\n",
    "  setkey(occupied_long_dt, Occupied_Type)\n",
    "  setorder(occupied_long_dt, Occupied_Type, -Housing_Units)\n",
    "  \n",
    "  grp_dt <- occupied_long_dt[, .SD[Housing_Units %in% head(Housing_Units, 10)], by = Occupied_Type]\n",
    "  \n",
    "  occupied_plots <- lapply(split(grp_dt, by=\"Occupied_Type\"), function(dt){\n",
    "    grp <- dt$Occupied_Type[1]\n",
    "    \n",
    "    ggplot(dt, aes(x=Geog, y=Housing_Units, fill=factor(Geog))) + \n",
    "      geom_bar(stat=\"identity\", position = position_dodge(width = 0.9)) +\n",
    "      guides(fill=guide_legend(title=\"Geog\", ncol=15)) +\n",
    "      labs(title=gsub(\"\\\\.\", \" \", paste(\"Top Ten Chicago Community Area \", grp, sep=\" - \")), \n",
    "           y=\"Housing Units\", x=\"Chicago Community Areas\") +\n",
    "      theme(plot.title = element_text(hjust = 0.5), legend.position=\"bottom\") + \n",
    "      scale_fill_hue(l=45)\n",
    "  })\n",
    "  \n",
    "  list(comm_plot, race_plots, age_plots, gender_plots, educ_plots, hhold_plot, housing_plots, occupied_plots)\n",
    "}\n"
   ]
  },
  {
   "cell_type": "code",
   "execution_count": null,
   "metadata": {
    "scrolled": false
   },
   "outputs": [],
   "source": [
    "options(repr.plot.width=10, repr.plot.height=4)\n",
    "graphing_fct()"
   ]
  },
  {
   "cell_type": "markdown",
   "metadata": {},
   "source": [
    "## Microbenchmark"
   ]
  },
  {
   "cell_type": "code",
   "execution_count": null,
   "metadata": {},
   "outputs": [],
   "source": [
    "print(microbenchmark(extract_fct, reshape_fct, summarize_fct, graphing_fct))"
   ]
  },
  {
   "cell_type": "code",
   "execution_count": null,
   "metadata": {},
   "outputs": [],
   "source": []
  }
 ],
 "metadata": {
  "kernelspec": {
   "display_name": "R",
   "language": "R",
   "name": "ir"
  },
  "language_info": {
   "codemirror_mode": "r",
   "file_extension": ".r",
   "mimetype": "text/x-r-source",
   "name": "R",
   "pygments_lexer": "r",
   "version": "3.4.4"
  }
 },
 "nbformat": 4,
 "nbformat_minor": 2
}
